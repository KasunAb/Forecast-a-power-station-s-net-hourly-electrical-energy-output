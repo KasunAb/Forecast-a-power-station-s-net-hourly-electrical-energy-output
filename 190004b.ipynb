{
 "cells": [
  {
   "cell_type": "code",
   "execution_count": 1,
   "id": "6db1008d",
   "metadata": {
    "_cell_guid": "b1076dfc-b9ad-4769-8c92-a6c4dae69d19",
    "_uuid": "8f2839f25d086af736a60e9eeb907d3b93b6e0e5",
    "execution": {
     "iopub.execute_input": "2022-04-13T02:27:13.948382Z",
     "iopub.status.busy": "2022-04-13T02:27:13.947762Z",
     "iopub.status.idle": "2022-04-13T02:27:14.997997Z",
     "shell.execute_reply": "2022-04-13T02:27:14.997012Z",
     "shell.execute_reply.started": "2022-04-13T02:20:20.217250Z"
    },
    "papermill": {
     "duration": 1.103488,
     "end_time": "2022-04-13T02:27:14.998158",
     "exception": false,
     "start_time": "2022-04-13T02:27:13.894670",
     "status": "completed"
    },
    "tags": []
   },
   "outputs": [
    {
     "name": "stdout",
     "output_type": "stream",
     "text": [
      "/kaggle/input/lab-02-introduction-to-machine-learning/sample_submission.csv\n",
      "/kaggle/input/lab-02-introduction-to-machine-learning/train.csv\n",
      "/kaggle/input/lab-02-introduction-to-machine-learning/test.csv\n"
     ]
    }
   ],
   "source": [
    "# This Python 3 environment comes with many helpful analytics libraries installed\n",
    "# It is defined by the kaggle/python Docker image: https://github.com/kaggle/docker-python\n",
    "# For example, here's several helpful packages to load\n",
    "\n",
    "import numpy as np # linear algebra\n",
    "import pandas as pd # data processing, CSV file I/O (e.g. pd.read_csv)\n",
    "import matplotlib.pyplot as plt\n",
    "import seaborn as sns\n",
    "# Input data files are available in the read-only \"../input/\" directory\n",
    "# For example, running this (by clicking run or pressing Shift+Enter) will list all files under the input directory\n",
    "\n",
    "import os\n",
    "for dirname, _, filenames in os.walk('/kaggle/input'):\n",
    "    for filename in filenames:\n",
    "        print(os.path.join(dirname, filename))\n",
    "\n",
    "# You can write up to 20GB to the current directory (/kaggle/working/) that gets preserved as output when you create a version using \"Save & Run All\" \n",
    "# You can also write temporary files to /kaggle/temp/, but they won't be saved outside of the current session"
   ]
  },
  {
   "cell_type": "code",
   "execution_count": 2,
   "id": "f98e6513",
   "metadata": {
    "execution": {
     "iopub.execute_input": "2022-04-13T02:27:15.084859Z",
     "iopub.status.busy": "2022-04-13T02:27:15.084184Z",
     "iopub.status.idle": "2022-04-13T02:27:15.127794Z",
     "shell.execute_reply": "2022-04-13T02:27:15.126596Z",
     "shell.execute_reply.started": "2022-04-13T02:20:21.404779Z"
    },
    "papermill": {
     "duration": 0.087792,
     "end_time": "2022-04-13T02:27:15.127947",
     "exception": false,
     "start_time": "2022-04-13T02:27:15.040155",
     "status": "completed"
    },
    "tags": []
   },
   "outputs": [],
   "source": [
    "df_train = pd.read_csv('../input/lab-02-introduction-to-machine-learning/train.csv')\n",
    "df_test = pd.read_csv('../input/lab-02-introduction-to-machine-learning/test.csv')"
   ]
  },
  {
   "cell_type": "code",
   "execution_count": 3,
   "id": "3222089b",
   "metadata": {
    "execution": {
     "iopub.execute_input": "2022-04-13T02:27:15.220548Z",
     "iopub.status.busy": "2022-04-13T02:27:15.219721Z",
     "iopub.status.idle": "2022-04-13T02:27:15.237209Z",
     "shell.execute_reply": "2022-04-13T02:27:15.237739Z",
     "shell.execute_reply.started": "2022-04-13T02:20:21.445774Z"
    },
    "papermill": {
     "duration": 0.069106,
     "end_time": "2022-04-13T02:27:15.237910",
     "exception": false,
     "start_time": "2022-04-13T02:27:15.168804",
     "status": "completed"
    },
    "tags": []
   },
   "outputs": [
    {
     "data": {
      "text/html": [
       "<div>\n",
       "<style scoped>\n",
       "    .dataframe tbody tr th:only-of-type {\n",
       "        vertical-align: middle;\n",
       "    }\n",
       "\n",
       "    .dataframe tbody tr th {\n",
       "        vertical-align: top;\n",
       "    }\n",
       "\n",
       "    .dataframe thead th {\n",
       "        text-align: right;\n",
       "    }\n",
       "</style>\n",
       "<table border=\"1\" class=\"dataframe\">\n",
       "  <thead>\n",
       "    <tr style=\"text-align: right;\">\n",
       "      <th></th>\n",
       "      <th>ID</th>\n",
       "      <th>AT</th>\n",
       "      <th>V</th>\n",
       "      <th>AP</th>\n",
       "      <th>RH</th>\n",
       "      <th>EP</th>\n",
       "    </tr>\n",
       "  </thead>\n",
       "  <tbody>\n",
       "    <tr>\n",
       "      <th>0</th>\n",
       "      <td>1</td>\n",
       "      <td>28.62</td>\n",
       "      <td>69.71</td>\n",
       "      <td>1009.67</td>\n",
       "      <td>62.12</td>\n",
       "      <td>437.52</td>\n",
       "    </tr>\n",
       "    <tr>\n",
       "      <th>1</th>\n",
       "      <td>2</td>\n",
       "      <td>14.84</td>\n",
       "      <td>41.48</td>\n",
       "      <td>1017.26</td>\n",
       "      <td>63.42</td>\n",
       "      <td>460.30</td>\n",
       "    </tr>\n",
       "    <tr>\n",
       "      <th>2</th>\n",
       "      <td>3</td>\n",
       "      <td>26.04</td>\n",
       "      <td>74.67</td>\n",
       "      <td>1016.68</td>\n",
       "      <td>81.20</td>\n",
       "      <td>433.55</td>\n",
       "    </tr>\n",
       "    <tr>\n",
       "      <th>3</th>\n",
       "      <td>4</td>\n",
       "      <td>13.55</td>\n",
       "      <td>42.99</td>\n",
       "      <td>1007.58</td>\n",
       "      <td>97.55</td>\n",
       "      <td>470.82</td>\n",
       "    </tr>\n",
       "    <tr>\n",
       "      <th>4</th>\n",
       "      <td>5</td>\n",
       "      <td>20.10</td>\n",
       "      <td>59.87</td>\n",
       "      <td>1018.97</td>\n",
       "      <td>87.23</td>\n",
       "      <td>444.71</td>\n",
       "    </tr>\n",
       "  </tbody>\n",
       "</table>\n",
       "</div>"
      ],
      "text/plain": [
       "   ID     AT      V       AP     RH      EP\n",
       "0   1  28.62  69.71  1009.67  62.12  437.52\n",
       "1   2  14.84  41.48  1017.26  63.42  460.30\n",
       "2   3  26.04  74.67  1016.68  81.20  433.55\n",
       "3   4  13.55  42.99  1007.58  97.55  470.82\n",
       "4   5  20.10  59.87  1018.97  87.23  444.71"
      ]
     },
     "execution_count": 3,
     "metadata": {},
     "output_type": "execute_result"
    }
   ],
   "source": [
    "df_train.head()"
   ]
  },
  {
   "cell_type": "code",
   "execution_count": 4,
   "id": "6d87a394",
   "metadata": {
    "execution": {
     "iopub.execute_input": "2022-04-13T02:27:15.323688Z",
     "iopub.status.busy": "2022-04-13T02:27:15.322730Z",
     "iopub.status.idle": "2022-04-13T02:27:15.334917Z",
     "shell.execute_reply": "2022-04-13T02:27:15.335359Z",
     "shell.execute_reply.started": "2022-04-13T02:20:21.473385Z"
    },
    "papermill": {
     "duration": 0.056691,
     "end_time": "2022-04-13T02:27:15.335562",
     "exception": false,
     "start_time": "2022-04-13T02:27:15.278871",
     "status": "completed"
    },
    "tags": []
   },
   "outputs": [
    {
     "data": {
      "text/html": [
       "<div>\n",
       "<style scoped>\n",
       "    .dataframe tbody tr th:only-of-type {\n",
       "        vertical-align: middle;\n",
       "    }\n",
       "\n",
       "    .dataframe tbody tr th {\n",
       "        vertical-align: top;\n",
       "    }\n",
       "\n",
       "    .dataframe thead th {\n",
       "        text-align: right;\n",
       "    }\n",
       "</style>\n",
       "<table border=\"1\" class=\"dataframe\">\n",
       "  <thead>\n",
       "    <tr style=\"text-align: right;\">\n",
       "      <th></th>\n",
       "      <th>ID</th>\n",
       "      <th>AT</th>\n",
       "      <th>V</th>\n",
       "      <th>AP</th>\n",
       "      <th>RH</th>\n",
       "    </tr>\n",
       "  </thead>\n",
       "  <tbody>\n",
       "    <tr>\n",
       "      <th>0</th>\n",
       "      <td>8501</td>\n",
       "      <td>8.91</td>\n",
       "      <td>40.69</td>\n",
       "      <td>1015.11</td>\n",
       "      <td>89.65</td>\n",
       "    </tr>\n",
       "    <tr>\n",
       "      <th>1</th>\n",
       "      <td>8502</td>\n",
       "      <td>25.63</td>\n",
       "      <td>48.92</td>\n",
       "      <td>1009.99</td>\n",
       "      <td>34.64</td>\n",
       "    </tr>\n",
       "    <tr>\n",
       "      <th>2</th>\n",
       "      <td>8503</td>\n",
       "      <td>18.98</td>\n",
       "      <td>60.10</td>\n",
       "      <td>1010.09</td>\n",
       "      <td>85.34</td>\n",
       "    </tr>\n",
       "    <tr>\n",
       "      <th>3</th>\n",
       "      <td>8504</td>\n",
       "      <td>8.02</td>\n",
       "      <td>39.04</td>\n",
       "      <td>1018.49</td>\n",
       "      <td>68.07</td>\n",
       "    </tr>\n",
       "    <tr>\n",
       "      <th>4</th>\n",
       "      <td>8505</td>\n",
       "      <td>34.10</td>\n",
       "      <td>73.03</td>\n",
       "      <td>1014.01</td>\n",
       "      <td>41.26</td>\n",
       "    </tr>\n",
       "  </tbody>\n",
       "</table>\n",
       "</div>"
      ],
      "text/plain": [
       "     ID     AT      V       AP     RH\n",
       "0  8501   8.91  40.69  1015.11  89.65\n",
       "1  8502  25.63  48.92  1009.99  34.64\n",
       "2  8503  18.98  60.10  1010.09  85.34\n",
       "3  8504   8.02  39.04  1018.49  68.07\n",
       "4  8505  34.10  73.03  1014.01  41.26"
      ]
     },
     "execution_count": 4,
     "metadata": {},
     "output_type": "execute_result"
    }
   ],
   "source": [
    "df_test.head()"
   ]
  },
  {
   "cell_type": "code",
   "execution_count": 5,
   "id": "6fbfb3d0",
   "metadata": {
    "execution": {
     "iopub.execute_input": "2022-04-13T02:27:15.427222Z",
     "iopub.status.busy": "2022-04-13T02:27:15.426381Z",
     "iopub.status.idle": "2022-04-13T02:27:15.429451Z",
     "shell.execute_reply": "2022-04-13T02:27:15.429954Z",
     "shell.execute_reply.started": "2022-04-13T02:20:21.489767Z"
    },
    "papermill": {
     "duration": 0.051117,
     "end_time": "2022-04-13T02:27:15.430113",
     "exception": false,
     "start_time": "2022-04-13T02:27:15.378996",
     "status": "completed"
    },
    "tags": []
   },
   "outputs": [
    {
     "data": {
      "text/plain": [
       "['AT', 'V', 'AP', 'RH']"
      ]
     },
     "execution_count": 5,
     "metadata": {},
     "output_type": "execute_result"
    }
   ],
   "source": [
    "columns=list(df_train.columns)\n",
    "columns.remove('ID')\n",
    "columns.remove('EP')\n",
    "columns"
   ]
  },
  {
   "cell_type": "code",
   "execution_count": 6,
   "id": "aa07352b",
   "metadata": {
    "execution": {
     "iopub.execute_input": "2022-04-13T02:27:15.517905Z",
     "iopub.status.busy": "2022-04-13T02:27:15.516954Z",
     "iopub.status.idle": "2022-04-13T02:27:15.554347Z",
     "shell.execute_reply": "2022-04-13T02:27:15.554914Z",
     "shell.execute_reply.started": "2022-04-13T02:20:21.498760Z"
    },
    "papermill": {
     "duration": 0.08315,
     "end_time": "2022-04-13T02:27:15.555083",
     "exception": false,
     "start_time": "2022-04-13T02:27:15.471933",
     "status": "completed"
    },
    "tags": []
   },
   "outputs": [
    {
     "data": {
      "text/html": [
       "<div>\n",
       "<style scoped>\n",
       "    .dataframe tbody tr th:only-of-type {\n",
       "        vertical-align: middle;\n",
       "    }\n",
       "\n",
       "    .dataframe tbody tr th {\n",
       "        vertical-align: top;\n",
       "    }\n",
       "\n",
       "    .dataframe thead th {\n",
       "        text-align: right;\n",
       "    }\n",
       "</style>\n",
       "<table border=\"1\" class=\"dataframe\">\n",
       "  <thead>\n",
       "    <tr style=\"text-align: right;\">\n",
       "      <th></th>\n",
       "      <th>ID</th>\n",
       "      <th>AT</th>\n",
       "      <th>V</th>\n",
       "      <th>AP</th>\n",
       "      <th>RH</th>\n",
       "      <th>EP</th>\n",
       "    </tr>\n",
       "  </thead>\n",
       "  <tbody>\n",
       "    <tr>\n",
       "      <th>count</th>\n",
       "      <td>8500.000000</td>\n",
       "      <td>8500.000000</td>\n",
       "      <td>8500.000000</td>\n",
       "      <td>8500.000000</td>\n",
       "      <td>8500.000000</td>\n",
       "      <td>8500.00000</td>\n",
       "    </tr>\n",
       "    <tr>\n",
       "      <th>mean</th>\n",
       "      <td>4250.500000</td>\n",
       "      <td>19.656261</td>\n",
       "      <td>54.310672</td>\n",
       "      <td>1013.254513</td>\n",
       "      <td>73.354868</td>\n",
       "      <td>454.33872</td>\n",
       "    </tr>\n",
       "    <tr>\n",
       "      <th>std</th>\n",
       "      <td>2453.882977</td>\n",
       "      <td>7.451720</td>\n",
       "      <td>12.699757</td>\n",
       "      <td>5.936605</td>\n",
       "      <td>14.628062</td>\n",
       "      <td>17.06837</td>\n",
       "    </tr>\n",
       "    <tr>\n",
       "      <th>min</th>\n",
       "      <td>1.000000</td>\n",
       "      <td>1.810000</td>\n",
       "      <td>25.360000</td>\n",
       "      <td>992.890000</td>\n",
       "      <td>25.560000</td>\n",
       "      <td>420.26000</td>\n",
       "    </tr>\n",
       "    <tr>\n",
       "      <th>25%</th>\n",
       "      <td>2125.750000</td>\n",
       "      <td>13.527500</td>\n",
       "      <td>41.740000</td>\n",
       "      <td>1009.117500</td>\n",
       "      <td>63.380000</td>\n",
       "      <td>439.72750</td>\n",
       "    </tr>\n",
       "    <tr>\n",
       "      <th>50%</th>\n",
       "      <td>4250.500000</td>\n",
       "      <td>20.360000</td>\n",
       "      <td>52.080000</td>\n",
       "      <td>1012.945000</td>\n",
       "      <td>75.025000</td>\n",
       "      <td>451.44000</td>\n",
       "    </tr>\n",
       "    <tr>\n",
       "      <th>75%</th>\n",
       "      <td>6375.250000</td>\n",
       "      <td>25.712500</td>\n",
       "      <td>66.540000</td>\n",
       "      <td>1017.240000</td>\n",
       "      <td>84.920000</td>\n",
       "      <td>468.43000</td>\n",
       "    </tr>\n",
       "    <tr>\n",
       "      <th>max</th>\n",
       "      <td>8500.000000</td>\n",
       "      <td>35.770000</td>\n",
       "      <td>80.250000</td>\n",
       "      <td>1033.290000</td>\n",
       "      <td>100.160000</td>\n",
       "      <td>495.76000</td>\n",
       "    </tr>\n",
       "  </tbody>\n",
       "</table>\n",
       "</div>"
      ],
      "text/plain": [
       "                ID           AT            V           AP           RH  \\\n",
       "count  8500.000000  8500.000000  8500.000000  8500.000000  8500.000000   \n",
       "mean   4250.500000    19.656261    54.310672  1013.254513    73.354868   \n",
       "std    2453.882977     7.451720    12.699757     5.936605    14.628062   \n",
       "min       1.000000     1.810000    25.360000   992.890000    25.560000   \n",
       "25%    2125.750000    13.527500    41.740000  1009.117500    63.380000   \n",
       "50%    4250.500000    20.360000    52.080000  1012.945000    75.025000   \n",
       "75%    6375.250000    25.712500    66.540000  1017.240000    84.920000   \n",
       "max    8500.000000    35.770000    80.250000  1033.290000   100.160000   \n",
       "\n",
       "               EP  \n",
       "count  8500.00000  \n",
       "mean    454.33872  \n",
       "std      17.06837  \n",
       "min     420.26000  \n",
       "25%     439.72750  \n",
       "50%     451.44000  \n",
       "75%     468.43000  \n",
       "max     495.76000  "
      ]
     },
     "execution_count": 6,
     "metadata": {},
     "output_type": "execute_result"
    }
   ],
   "source": [
    "df_train.describe()"
   ]
  },
  {
   "cell_type": "code",
   "execution_count": 7,
   "id": "164aaeaf",
   "metadata": {
    "execution": {
     "iopub.execute_input": "2022-04-13T02:27:15.642423Z",
     "iopub.status.busy": "2022-04-13T02:27:15.641815Z",
     "iopub.status.idle": "2022-04-13T02:27:15.654895Z",
     "shell.execute_reply": "2022-04-13T02:27:15.655479Z",
     "shell.execute_reply.started": "2022-04-13T02:20:21.547014Z"
    },
    "papermill": {
     "duration": 0.058145,
     "end_time": "2022-04-13T02:27:15.655639",
     "exception": false,
     "start_time": "2022-04-13T02:27:15.597494",
     "status": "completed"
    },
    "tags": []
   },
   "outputs": [
    {
     "data": {
      "text/plain": [
       "0"
      ]
     },
     "execution_count": 7,
     "metadata": {},
     "output_type": "execute_result"
    }
   ],
   "source": [
    "df_train.duplicated().sum()"
   ]
  },
  {
   "cell_type": "code",
   "execution_count": 8,
   "id": "9cced8ac",
   "metadata": {
    "execution": {
     "iopub.execute_input": "2022-04-13T02:27:15.745479Z",
     "iopub.status.busy": "2022-04-13T02:27:15.744790Z",
     "iopub.status.idle": "2022-04-13T02:27:15.760030Z",
     "shell.execute_reply": "2022-04-13T02:27:15.760551Z",
     "shell.execute_reply.started": "2022-04-13T02:20:21.562933Z"
    },
    "papermill": {
     "duration": 0.06194,
     "end_time": "2022-04-13T02:27:15.760732",
     "exception": false,
     "start_time": "2022-04-13T02:27:15.698792",
     "status": "completed"
    },
    "tags": []
   },
   "outputs": [
    {
     "name": "stdout",
     "output_type": "stream",
     "text": [
      "<class 'pandas.core.frame.DataFrame'>\n",
      "RangeIndex: 8500 entries, 0 to 8499\n",
      "Data columns (total 6 columns):\n",
      " #   Column  Non-Null Count  Dtype  \n",
      "---  ------  --------------  -----  \n",
      " 0   ID      8500 non-null   int64  \n",
      " 1   AT      8500 non-null   float64\n",
      " 2   V       8500 non-null   float64\n",
      " 3   AP      8500 non-null   float64\n",
      " 4   RH      8500 non-null   float64\n",
      " 5   EP      8500 non-null   float64\n",
      "dtypes: float64(5), int64(1)\n",
      "memory usage: 398.6 KB\n"
     ]
    }
   ],
   "source": [
    "df_train.info()"
   ]
  },
  {
   "cell_type": "code",
   "execution_count": 9,
   "id": "5d38fb86",
   "metadata": {
    "execution": {
     "iopub.execute_input": "2022-04-13T02:27:15.855258Z",
     "iopub.status.busy": "2022-04-13T02:27:15.852483Z",
     "iopub.status.idle": "2022-04-13T02:27:15.858808Z",
     "shell.execute_reply": "2022-04-13T02:27:15.858166Z",
     "shell.execute_reply.started": "2022-04-13T02:20:21.581906Z"
    },
    "papermill": {
     "duration": 0.054654,
     "end_time": "2022-04-13T02:27:15.858945",
     "exception": false,
     "start_time": "2022-04-13T02:27:15.804291",
     "status": "completed"
    },
    "tags": []
   },
   "outputs": [
    {
     "data": {
      "text/plain": [
       "ID    0\n",
       "AT    0\n",
       "V     0\n",
       "AP    0\n",
       "RH    0\n",
       "EP    0\n",
       "dtype: int64"
      ]
     },
     "execution_count": 9,
     "metadata": {},
     "output_type": "execute_result"
    }
   ],
   "source": [
    "df_train.isnull().sum()"
   ]
  },
  {
   "cell_type": "code",
   "execution_count": 10,
   "id": "9d540ebb",
   "metadata": {
    "execution": {
     "iopub.execute_input": "2022-04-13T02:27:15.954655Z",
     "iopub.status.busy": "2022-04-13T02:27:15.953737Z",
     "iopub.status.idle": "2022-04-13T02:27:15.957019Z",
     "shell.execute_reply": "2022-04-13T02:27:15.957543Z",
     "shell.execute_reply.started": "2022-04-13T02:20:21.595125Z"
    },
    "papermill": {
     "duration": 0.054194,
     "end_time": "2022-04-13T02:27:15.957697",
     "exception": false,
     "start_time": "2022-04-13T02:27:15.903503",
     "status": "completed"
    },
    "tags": []
   },
   "outputs": [
    {
     "data": {
      "text/plain": [
       "Index(['AT', 'V', 'AP', 'RH', 'EP'], dtype='object')"
      ]
     },
     "execution_count": 10,
     "metadata": {},
     "output_type": "execute_result"
    }
   ],
   "source": [
    "df_train.drop('ID',axis=1,inplace=True)\n",
    "df_train.columns"
   ]
  },
  {
   "cell_type": "code",
   "execution_count": 11,
   "id": "3d8dcbf2",
   "metadata": {
    "execution": {
     "iopub.execute_input": "2022-04-13T02:27:16.052545Z",
     "iopub.status.busy": "2022-04-13T02:27:16.049274Z",
     "iopub.status.idle": "2022-04-13T02:27:16.564975Z",
     "shell.execute_reply": "2022-04-13T02:27:16.564479Z",
     "shell.execute_reply.started": "2022-04-13T02:20:21.606029Z"
    },
    "papermill": {
     "duration": 0.563244,
     "end_time": "2022-04-13T02:27:16.565111",
     "exception": false,
     "start_time": "2022-04-13T02:27:16.001867",
     "status": "completed"
    },
    "tags": []
   },
   "outputs": [
    {
     "data": {
      "image/png": "[encoded data removed]",
      "text/plain": [
       "<Figure size 2160x360 with 4 Axes>"
      ]
     },
     "metadata": {
      "needs_background": "light"
     },
     "output_type": "display_data"
    }
   ],
   "source": [
    "fig = plt.figure(figsize=(30,5))\n",
    "fig.subplots_adjust(hspace=0.4, wspace=0.4)\n",
    "for i in range(1,5):\n",
    "  fig.add_subplot(1,4,i)\n",
    "  plt.boxplot(x=df_train[columns[i-1]],vert=False)\n",
    "  plt.xlabel(columns[i-1])"
   ]
  },
  {
   "cell_type": "code",
   "execution_count": 12,
   "id": "82ee197a",
   "metadata": {
    "execution": {
     "iopub.execute_input": "2022-04-13T02:27:16.663153Z",
     "iopub.status.busy": "2022-04-13T02:27:16.662445Z",
     "iopub.status.idle": "2022-04-13T02:27:16.663937Z",
     "shell.execute_reply": "2022-04-13T02:27:16.664453Z",
     "shell.execute_reply.started": "2022-04-13T02:20:22.157920Z"
    },
    "papermill": {
     "duration": 0.054528,
     "end_time": "2022-04-13T02:27:16.664618",
     "exception": false,
     "start_time": "2022-04-13T02:27:16.610090",
     "status": "completed"
    },
    "tags": []
   },
   "outputs": [],
   "source": [
    "#Detecting outliers using the Z-scores\n",
    "\n",
    "def detect_outliers_zscore(data):\n",
    "    outliers=[]\n",
    "    thres = 3\n",
    "    mean = np.mean(data)\n",
    "    std = np.std(data)\n",
    "    # print(mean, std)\n",
    "    for i in data:\n",
    "        z_score = (i-mean)/std\n",
    "        if (np.abs(z_score) > thres):\n",
    "            outliers.append(i)\n",
    "    print(outliers)\n",
    "    return outliers\n",
    "\n",
    "def replace_outliers(data):\n",
    "    outliers=detect_outliers_zscore(data)\n",
    "    median = np.median(data)\n",
    "    for i in outliers:\n",
    "        data.replace(i,median,inplace=True) #Replace with median\n",
    "    return data"
   ]
  },
  {
   "cell_type": "code",
   "execution_count": 13,
   "id": "2302d9ec",
   "metadata": {
    "execution": {
     "iopub.execute_input": "2022-04-13T02:27:16.758344Z",
     "iopub.status.busy": "2022-04-13T02:27:16.757724Z",
     "iopub.status.idle": "2022-04-13T02:27:16.850810Z",
     "shell.execute_reply": "2022-04-13T02:27:16.851258Z",
     "shell.execute_reply.started": "2022-04-13T02:20:22.168599Z"
    },
    "papermill": {
     "duration": 0.141949,
     "end_time": "2022-04-13T02:27:16.851445",
     "exception": false,
     "start_time": "2022-04-13T02:27:16.709496",
     "status": "completed"
    },
    "tags": []
   },
   "outputs": [
    {
     "name": "stdout",
     "output_type": "stream",
     "text": [
      "AT\n",
      "[]\n",
      "[]\n",
      "V\n",
      "[]\n",
      "[]\n",
      "AP\n",
      "[1031.14, 995.24, 1031.1, 994.6, 995.02, 1032.72, 1031.39, 1032.14, 1031.21, 1031.33, 1032.77, 1033.04, 1031.16, 1031.97, 1031.27, 1031.45, 1032.86, 1032.08, 1031.8, 993.82, 1031.75, 1032.88, 1033.25, 1032.16, 1032.37, 1032.93, 1031.96, 1033.09, 1032.98, 994.17, 992.89, 1031.2, 1031.96, 1031.08, 1031.55, 1031.71, 1032.67, 1033.19, 1031.34, 1031.32, 1033.29, 993.74, 1033.08]\n",
      "[1033.3, 993.11, 1032.83, 1031.5, 1031.58, 993.31, 1033.14, 1031.21]\n",
      "RH\n",
      "[25.89, 29.43, 28.16, 25.56, 28.81, 26.67, 26.3]\n",
      "[]\n"
     ]
    }
   ],
   "source": [
    "for i in columns:\n",
    "    print(i)\n",
    "    replace_outliers(df_train[i])\n",
    "    replace_outliers(df_test[i])"
   ]
  },
  {
   "cell_type": "code",
   "execution_count": 14,
   "id": "5d485c05",
   "metadata": {
    "execution": {
     "iopub.execute_input": "2022-04-13T02:27:16.945001Z",
     "iopub.status.busy": "2022-04-13T02:27:16.944413Z",
     "iopub.status.idle": "2022-04-13T02:27:17.676462Z",
     "shell.execute_reply": "2022-04-13T02:27:17.677067Z",
     "shell.execute_reply.started": "2022-04-13T02:20:22.282008Z"
    },
    "papermill": {
     "duration": 0.780489,
     "end_time": "2022-04-13T02:27:17.677233",
     "exception": false,
     "start_time": "2022-04-13T02:27:16.896744",
     "status": "completed"
    },
    "tags": []
   },
   "outputs": [
    {
     "data": {
      "image/png": "[encoded data removed]",
      "text/plain": [
       "<Figure size 2160x720 with 4 Axes>"
      ]
     },
     "metadata": {
      "needs_background": "light"
     },
     "output_type": "display_data"
    }
   ],
   "source": [
    "fig = plt.figure(figsize=(30,10))\n",
    "fig.subplots_adjust(hspace=0.4, wspace=0.4)\n",
    "for i in range(1,5):\n",
    "  fig.add_subplot(1,4,i)\n",
    "  plt.hist(x=df_train[columns[i-1]])\n",
    "  plt.xlabel(columns[i-1])"
   ]
  },
  {
   "cell_type": "code",
   "execution_count": 15,
   "id": "c7283a66",
   "metadata": {
    "execution": {
     "iopub.execute_input": "2022-04-13T02:27:17.774672Z",
     "iopub.status.busy": "2022-04-13T02:27:17.774006Z",
     "iopub.status.idle": "2022-04-13T02:27:17.781096Z",
     "shell.execute_reply": "2022-04-13T02:27:17.781596Z",
     "shell.execute_reply.started": "2022-04-13T02:20:23.056019Z"
    },
    "papermill": {
     "duration": 0.057929,
     "end_time": "2022-04-13T02:27:17.781766",
     "exception": false,
     "start_time": "2022-04-13T02:27:17.723837",
     "status": "completed"
    },
    "tags": []
   },
   "outputs": [
    {
     "data": {
      "text/plain": [
       "EP    0.310312\n",
       "AP    0.203252\n",
       "V     0.197274\n",
       "AT   -0.139852\n",
       "RH   -0.421310\n",
       "dtype: float64"
      ]
     },
     "execution_count": 15,
     "metadata": {},
     "output_type": "execute_result"
    }
   ],
   "source": [
    "df_train.skew().sort_values(ascending=False)"
   ]
  },
  {
   "cell_type": "code",
   "execution_count": 16,
   "id": "70b4a4f6",
   "metadata": {
    "execution": {
     "iopub.execute_input": "2022-04-13T02:27:17.879463Z",
     "iopub.status.busy": "2022-04-13T02:27:17.878792Z",
     "iopub.status.idle": "2022-04-13T02:27:17.900984Z",
     "shell.execute_reply": "2022-04-13T02:27:17.901846Z",
     "shell.execute_reply.started": "2022-04-13T02:20:23.069213Z"
    },
    "papermill": {
     "duration": 0.073309,
     "end_time": "2022-04-13T02:27:17.902077",
     "exception": false,
     "start_time": "2022-04-13T02:27:17.828768",
     "status": "completed"
    },
    "tags": []
   },
   "outputs": [
    {
     "name": "stdout",
     "output_type": "stream",
     "text": [
      "-0.9131421605061784\n",
      "-0.6529931583127927\n",
      "-0.10667164773959416\n"
     ]
    }
   ],
   "source": [
    "print(np.log(df_train['RH']).skew())\n",
    "print(np.sqrt(df_train['RH']).skew())\n",
    "\n",
    "from scipy import stats\n",
    "print(pd.Series(stats.boxcox(df_train['RH'])[0]).skew())\n",
    "\n",
    "df_train['RH']=pd.Series(stats.boxcox(df_train['RH'])[0])\n",
    "df_test['RH']=pd.Series(stats.boxcox(df_test['RH'])[0])"
   ]
  },
  {
   "cell_type": "code",
   "execution_count": 17,
   "id": "9e92a140",
   "metadata": {
    "execution": {
     "iopub.execute_input": "2022-04-13T02:27:18.000716Z",
     "iopub.status.busy": "2022-04-13T02:27:18.000066Z",
     "iopub.status.idle": "2022-04-13T02:27:18.008370Z",
     "shell.execute_reply": "2022-04-13T02:27:18.008858Z",
     "shell.execute_reply.started": "2022-04-13T02:20:23.099665Z"
    },
    "papermill": {
     "duration": 0.05889,
     "end_time": "2022-04-13T02:27:18.009033",
     "exception": false,
     "start_time": "2022-04-13T02:27:17.950143",
     "status": "completed"
    },
    "tags": []
   },
   "outputs": [
    {
     "data": {
      "text/plain": [
       "EP    0.310312\n",
       "AP    0.203252\n",
       "V     0.197274\n",
       "RH   -0.106672\n",
       "AT   -0.139852\n",
       "dtype: float64"
      ]
     },
     "execution_count": 17,
     "metadata": {},
     "output_type": "execute_result"
    }
   ],
   "source": [
    "df_train.skew().sort_values(ascending=False)"
   ]
  },
  {
   "cell_type": "code",
   "execution_count": 18,
   "id": "32cf7ea9",
   "metadata": {
    "execution": {
     "iopub.execute_input": "2022-04-13T02:27:18.127434Z",
     "iopub.status.busy": "2022-04-13T02:27:18.123051Z",
     "iopub.status.idle": "2022-04-13T02:27:18.326354Z",
     "shell.execute_reply": "2022-04-13T02:27:18.326848Z",
     "shell.execute_reply.started": "2022-04-13T02:20:23.111910Z"
    },
    "papermill": {
     "duration": 0.269224,
     "end_time": "2022-04-13T02:27:18.327019",
     "exception": false,
     "start_time": "2022-04-13T02:27:18.057795",
     "status": "completed"
    },
    "tags": []
   },
   "outputs": [
    {
     "data": {
      "text/plain": [
       "(array([ 160.,  481.,  791., 1018., 1199., 1325., 1237., 1219.,  678.,\n",
       "         392.]),\n",
       " array([ 230.99108612,  405.40062806,  579.81016999,  754.21971193,\n",
       "         928.62925387, 1103.03879581, 1277.44833775, 1451.85787969,\n",
       "        1626.26742163, 1800.67696357, 1975.0865055 ]),\n",
       " <BarContainer object of 10 artists>)"
      ]
     },
     "execution_count": 18,
     "metadata": {},
     "output_type": "execute_result"
    },
    {
     "data": {
      "image/png": "[encoded data removed]",
      "text/plain": [
       "<Figure size 432x288 with 1 Axes>"
      ]
     },
     "metadata": {
      "needs_background": "light"
     },
     "output_type": "display_data"
    }
   ],
   "source": [
    "plt.hist(df_train['RH'])"
   ]
  },
  {
   "cell_type": "code",
   "execution_count": 19,
   "id": "ba264d1c",
   "metadata": {
    "execution": {
     "iopub.execute_input": "2022-04-13T02:27:18.428153Z",
     "iopub.status.busy": "2022-04-13T02:27:18.427527Z",
     "iopub.status.idle": "2022-04-13T02:27:19.374675Z",
     "shell.execute_reply": "2022-04-13T02:27:19.375281Z",
     "shell.execute_reply.started": "2022-04-13T02:20:23.342272Z"
    },
    "papermill": {
     "duration": 0.999391,
     "end_time": "2022-04-13T02:27:19.375466",
     "exception": false,
     "start_time": "2022-04-13T02:27:18.376075",
     "status": "completed"
    },
    "tags": []
   },
   "outputs": [
    {
     "data": {
      "image/png": "[encoded data removed]",
      "text/plain": [
       "<Figure size 2160x360 with 4 Axes>"
      ]
     },
     "metadata": {
      "needs_background": "light"
     },
     "output_type": "display_data"
    }
   ],
   "source": [
    "fig=plt.figure(figsize=(30,5))\n",
    "for i in range(1,5):\n",
    "    fig.add_subplot(1,4,i)\n",
    "    plt.scatter(df_train[columns[i-1]],df_train['EP'])"
   ]
  },
  {
   "cell_type": "code",
   "execution_count": 20,
   "id": "4b970522",
   "metadata": {
    "execution": {
     "iopub.execute_input": "2022-04-13T02:27:19.482282Z",
     "iopub.status.busy": "2022-04-13T02:27:19.481674Z",
     "iopub.status.idle": "2022-04-13T02:27:19.818930Z",
     "shell.execute_reply": "2022-04-13T02:27:19.818348Z",
     "shell.execute_reply.started": "2022-04-13T02:20:24.315909Z"
    },
    "papermill": {
     "duration": 0.391647,
     "end_time": "2022-04-13T02:27:19.819063",
     "exception": false,
     "start_time": "2022-04-13T02:27:19.427416",
     "status": "completed"
    },
    "tags": []
   },
   "outputs": [
    {
     "data": {
      "image/png": "[encoded data removed]",
      "text/plain": [
       "<Figure size 1080x1080 with 2 Axes>"
      ]
     },
     "metadata": {
      "needs_background": "light"
     },
     "output_type": "display_data"
    }
   ],
   "source": [
    "f,ax = plt.subplots(figsize=(15,15))\n",
    "sns.heatmap(df_train.corr(), annot=True, linewidths=.5, fmt='.2f', ax=ax)\n",
    "plt.show()"
   ]
  },
  {
   "cell_type": "code",
   "execution_count": 21,
   "id": "c3ad2417",
   "metadata": {
    "execution": {
     "iopub.execute_input": "2022-04-13T02:27:19.931744Z",
     "iopub.status.busy": "2022-04-13T02:27:19.931111Z",
     "iopub.status.idle": "2022-04-13T02:27:19.932775Z",
     "shell.execute_reply": "2022-04-13T02:27:19.933327Z",
     "shell.execute_reply.started": "2022-04-13T02:20:24.663225Z"
    },
    "papermill": {
     "duration": 0.060942,
     "end_time": "2022-04-13T02:27:19.933502",
     "exception": false,
     "start_time": "2022-04-13T02:27:19.872560",
     "status": "completed"
    },
    "tags": []
   },
   "outputs": [],
   "source": [
    "X_train = df_train.iloc[:, :-1].values\n",
    "y = df_train.iloc[:, -1].values"
   ]
  },
  {
   "cell_type": "code",
   "execution_count": 22,
   "id": "95a8d3ac",
   "metadata": {
    "execution": {
     "iopub.execute_input": "2022-04-13T02:27:20.043148Z",
     "iopub.status.busy": "2022-04-13T02:27:20.042494Z",
     "iopub.status.idle": "2022-04-13T02:27:20.047768Z",
     "shell.execute_reply": "2022-04-13T02:27:20.048295Z",
     "shell.execute_reply.started": "2022-04-13T02:20:24.669411Z"
    },
    "papermill": {
     "duration": 0.062322,
     "end_time": "2022-04-13T02:27:20.048492",
     "exception": false,
     "start_time": "2022-04-13T02:27:19.986170",
     "status": "completed"
    },
    "tags": []
   },
   "outputs": [],
   "source": [
    "df_test_copy=df_test.copy()\n",
    "ID_test=df_test['ID'].values\n",
    "df_test.drop('ID',axis=1,inplace=True)\n",
    "X_test = df_test.values"
   ]
  },
  {
   "cell_type": "markdown",
   "id": "eea70abc",
   "metadata": {
    "papermill": {
     "duration": 0.052568,
     "end_time": "2022-04-13T02:27:20.154467",
     "exception": false,
     "start_time": "2022-04-13T02:27:20.101899",
     "status": "completed"
    },
    "tags": []
   },
   "source": [
    "Train set split"
   ]
  },
  {
   "cell_type": "code",
   "execution_count": 23,
   "id": "4d414515",
   "metadata": {
    "execution": {
     "iopub.execute_input": "2022-04-13T02:27:20.263806Z",
     "iopub.status.busy": "2022-04-13T02:27:20.263146Z",
     "iopub.status.idle": "2022-04-13T02:27:20.447634Z",
     "shell.execute_reply": "2022-04-13T02:27:20.446974Z",
     "shell.execute_reply.started": "2022-04-13T02:20:24.684311Z"
    },
    "papermill": {
     "duration": 0.240075,
     "end_time": "2022-04-13T02:27:20.447772",
     "exception": false,
     "start_time": "2022-04-13T02:27:20.207697",
     "status": "completed"
    },
    "tags": []
   },
   "outputs": [],
   "source": [
    "from sklearn.model_selection import train_test_split\n",
    "X0_train, X0_test, y0_train, y0_test = train_test_split(X_train, y, test_size = 0.2, random_state = 0)"
   ]
  },
  {
   "cell_type": "markdown",
   "id": "db7e5ba6",
   "metadata": {
    "papermill": {
     "duration": 0.052643,
     "end_time": "2022-04-13T02:27:20.553353",
     "exception": false,
     "start_time": "2022-04-13T02:27:20.500710",
     "status": "completed"
    },
    "tags": []
   },
   "source": [
    "Polynomial Regression"
   ]
  },
  {
   "cell_type": "code",
   "execution_count": 24,
   "id": "ce4d6dc4",
   "metadata": {
    "execution": {
     "iopub.execute_input": "2022-04-13T02:27:20.666206Z",
     "iopub.status.busy": "2022-04-13T02:27:20.665580Z",
     "iopub.status.idle": "2022-04-13T02:27:20.765262Z",
     "shell.execute_reply": "2022-04-13T02:27:20.766226Z",
     "shell.execute_reply.started": "2022-04-13T02:20:24.897841Z"
    },
    "papermill": {
     "duration": 0.160382,
     "end_time": "2022-04-13T02:27:20.766509",
     "exception": false,
     "start_time": "2022-04-13T02:27:20.606127",
     "status": "completed"
    },
    "tags": []
   },
   "outputs": [
    {
     "data": {
      "text/plain": [
       "LinearRegression()"
      ]
     },
     "execution_count": 24,
     "metadata": {},
     "output_type": "execute_result"
    }
   ],
   "source": [
    "#Training the Polynomial Regression model on the Training set\n",
    "from sklearn.preprocessing import PolynomialFeatures\n",
    "from sklearn.linear_model import LinearRegression\n",
    "poly_reg = PolynomialFeatures(degree = 2)\n",
    "X_poly = poly_reg.fit_transform(X0_train)\n",
    "regressor = LinearRegression()\n",
    "regressor.fit(X_poly, y0_train)"
   ]
  },
  {
   "cell_type": "code",
   "execution_count": 25,
   "id": "4e18380d",
   "metadata": {
    "execution": {
     "iopub.execute_input": "2022-04-13T02:27:20.932147Z",
     "iopub.status.busy": "2022-04-13T02:27:20.930842Z",
     "iopub.status.idle": "2022-04-13T02:27:20.934020Z",
     "shell.execute_reply": "2022-04-13T02:27:20.933127Z",
     "shell.execute_reply.started": "2022-04-13T02:20:25.008157Z"
    },
    "papermill": {
     "duration": 0.068554,
     "end_time": "2022-04-13T02:27:20.934250",
     "exception": false,
     "start_time": "2022-04-13T02:27:20.865696",
     "status": "completed"
    },
    "tags": []
   },
   "outputs": [],
   "source": [
    "# Predicting the Test set results\n",
    "y_pol_pred = regressor.predict(poly_reg.transform(X0_test))"
   ]
  },
  {
   "cell_type": "code",
   "execution_count": 26,
   "id": "43ddde21",
   "metadata": {
    "execution": {
     "iopub.execute_input": "2022-04-13T02:27:21.101174Z",
     "iopub.status.busy": "2022-04-13T02:27:21.100538Z",
     "iopub.status.idle": "2022-04-13T02:27:21.102778Z",
     "shell.execute_reply": "2022-04-13T02:27:21.102101Z",
     "shell.execute_reply.started": "2022-04-13T02:20:25.026055Z"
    },
    "papermill": {
     "duration": 0.06705,
     "end_time": "2022-04-13T02:27:21.102937",
     "exception": false,
     "start_time": "2022-04-13T02:27:21.035887",
     "status": "completed"
    },
    "tags": []
   },
   "outputs": [],
   "source": [
    "#print(y_pred)"
   ]
  },
  {
   "cell_type": "markdown",
   "id": "b2c76016",
   "metadata": {
    "papermill": {
     "duration": 0.053694,
     "end_time": "2022-04-13T02:27:21.210012",
     "exception": false,
     "start_time": "2022-04-13T02:27:21.156318",
     "status": "completed"
    },
    "tags": []
   },
   "source": [
    "Random forest regression"
   ]
  },
  {
   "cell_type": "code",
   "execution_count": 27,
   "id": "f43564fb",
   "metadata": {
    "execution": {
     "iopub.execute_input": "2022-04-13T02:27:21.319501Z",
     "iopub.status.busy": "2022-04-13T02:27:21.318852Z",
     "iopub.status.idle": "2022-04-13T02:27:21.955971Z",
     "shell.execute_reply": "2022-04-13T02:27:21.955149Z",
     "shell.execute_reply.started": "2022-04-13T02:20:25.036412Z"
    },
    "papermill": {
     "duration": 0.69322,
     "end_time": "2022-04-13T02:27:21.956149",
     "exception": false,
     "start_time": "2022-04-13T02:27:21.262929",
     "status": "completed"
    },
    "tags": []
   },
   "outputs": [],
   "source": [
    "from sklearn.ensemble import RandomForestRegressor\n",
    "regressor = RandomForestRegressor(n_estimators = 10, random_state = 0)    \n",
    "\n",
    "regressor.fit(X0_train, y0_train)\n",
    "regressor.fit(X_train, y)\n",
    "\n",
    "y_random_pred = regressor.predict(X0_test)\n",
    "y_random_pred_0 = regressor.predict(X_test)"
   ]
  },
  {
   "cell_type": "markdown",
   "id": "4d96d79f",
   "metadata": {
    "papermill": {
     "duration": 0.053874,
     "end_time": "2022-04-13T02:27:22.065199",
     "exception": false,
     "start_time": "2022-04-13T02:27:22.011325",
     "status": "completed"
    },
    "tags": []
   },
   "source": [
    "Random Forest Hyperparameter Tuning using GridSearchCV"
   ]
  },
  {
   "cell_type": "code",
   "execution_count": 28,
   "id": "7abd5ee8",
   "metadata": {
    "execution": {
     "iopub.execute_input": "2022-04-13T02:27:22.181294Z",
     "iopub.status.busy": "2022-04-13T02:27:22.180585Z",
     "iopub.status.idle": "2022-04-13T02:27:22.183227Z",
     "shell.execute_reply": "2022-04-13T02:27:22.183761Z",
     "shell.execute_reply.started": "2022-04-13T02:20:25.697897Z"
    },
    "papermill": {
     "duration": 0.063675,
     "end_time": "2022-04-13T02:27:22.183930",
     "exception": false,
     "start_time": "2022-04-13T02:27:22.120255",
     "status": "completed"
    },
    "tags": []
   },
   "outputs": [
    {
     "name": "stdout",
     "output_type": "stream",
     "text": [
      "{'n_estimators': [10, 17, 25, 33, 41, 48, 56, 64, 72, 80], 'max_features': ['auto', 'sqrt'], 'max_depth': [2, 4], 'min_samples_split': [2, 5], 'min_samples_leaf': [1, 2], 'bootstrap': [True, False]}\n"
     ]
    }
   ],
   "source": [
    "# Number of trees in random forest\n",
    "n_estimators = [int(x) for x in np.linspace(start = 10, stop = 80, num = 10)]\n",
    "# Number of features to consider at every split\n",
    "max_features = ['auto', 'sqrt']\n",
    "# Maximum number of levels in tree\n",
    "max_depth = [2,4]\n",
    "# Minimum number of samples required to split a node\n",
    "min_samples_split = [2, 5]\n",
    "# Minimum number of samples required at each leaf node\n",
    "min_samples_leaf = [1, 2]\n",
    "# Method of selecting samples for training each tree\n",
    "bootstrap = [True, False]\n",
    "# Create the param grid\n",
    "param_grid = {'n_estimators': n_estimators,\n",
    "               'max_features': max_features,\n",
    "               'max_depth': max_depth,\n",
    "               'min_samples_split': min_samples_split,\n",
    "               'min_samples_leaf': min_samples_leaf,\n",
    "               'bootstrap': bootstrap}\n",
    "print(param_grid)"
   ]
  },
  {
   "cell_type": "markdown",
   "id": "fd380aa6",
   "metadata": {
    "papermill": {
     "duration": 0.053017,
     "end_time": "2022-04-13T02:27:22.290621",
     "exception": false,
     "start_time": "2022-04-13T02:27:22.237604",
     "status": "completed"
    },
    "tags": []
   },
   "source": [
    "Hyper parameters"
   ]
  },
  {
   "cell_type": "code",
   "execution_count": 29,
   "id": "053bd636",
   "metadata": {
    "execution": {
     "iopub.execute_input": "2022-04-13T02:27:22.402879Z",
     "iopub.status.busy": "2022-04-13T02:27:22.402184Z",
     "iopub.status.idle": "2022-04-13T02:27:22.404414Z",
     "shell.execute_reply": "2022-04-13T02:27:22.404913Z",
     "shell.execute_reply.started": "2022-04-13T02:20:25.707741Z"
    },
    "papermill": {
     "duration": 0.060985,
     "end_time": "2022-04-13T02:27:22.405082",
     "exception": false,
     "start_time": "2022-04-13T02:27:22.344097",
     "status": "completed"
    },
    "tags": []
   },
   "outputs": [],
   "source": [
    "rf = RandomForestRegressor(random_state = 42)\n",
    "from pprint import pprint"
   ]
  },
  {
   "cell_type": "code",
   "execution_count": 30,
   "id": "65de246d",
   "metadata": {
    "execution": {
     "iopub.execute_input": "2022-04-13T02:27:22.527445Z",
     "iopub.status.busy": "2022-04-13T02:27:22.526436Z",
     "iopub.status.idle": "2022-04-13T02:27:22.531449Z",
     "shell.execute_reply": "2022-04-13T02:27:22.531906Z",
     "shell.execute_reply.started": "2022-04-13T02:20:25.720247Z"
    },
    "papermill": {
     "duration": 0.073214,
     "end_time": "2022-04-13T02:27:22.532076",
     "exception": false,
     "start_time": "2022-04-13T02:27:22.458862",
     "status": "completed"
    },
    "tags": []
   },
   "outputs": [
    {
     "name": "stdout",
     "output_type": "stream",
     "text": [
      "{'bootstrap': [True, False],\n",
      " 'max_depth': [10, 20, 30, 40, 50, 60, 70, 80, 90, 100, 110, None],\n",
      " 'max_features': ['auto', 'sqrt'],\n",
      " 'min_samples_leaf': [1, 2, 4],\n",
      " 'min_samples_split': [2, 5, 10],\n",
      " 'n_estimators': [200, 400, 600, 800, 1000, 1200, 1400, 1600, 1800, 2000]}\n"
     ]
    },
    {
     "data": {
      "text/plain": [
       "{'bootstrap': [True, False],\n",
       " 'max_depth': [1, 2, 3, 4, 5],\n",
       " 'max_features': ['auto', 'sqrt'],\n",
       " 'min_samples_leaf': [1, 2],\n",
       " 'min_samples_split': [2, 5],\n",
       " 'n_estimators': []}"
      ]
     },
     "execution_count": 30,
     "metadata": {},
     "output_type": "execute_result"
    }
   ],
   "source": [
    "from sklearn.model_selection import RandomizedSearchCV\n",
    "# Number of trees in random forest\n",
    "n_estimators = [int(x) for x in np.linspace(start = 200, stop = 2000, num = 10)]\n",
    "# Number of features to consider at every split\n",
    "max_features = ['auto', 'sqrt']\n",
    "# Maximum number of levels in tree\n",
    "max_depth = [int(x) for x in np.linspace(10, 110, num = 11)]\n",
    "max_depth.append(None)\n",
    "# Minimum number of samples required to split a node\n",
    "min_samples_split = [2, 5, 10]\n",
    "# Minimum number of samples required at each leaf node\n",
    "min_samples_leaf = [1, 2, 4]\n",
    "# Method of selecting samples for training each tree\n",
    "bootstrap = [True, False]\n",
    "# Create the random grid\n",
    "random_grid = {'n_estimators': n_estimators,\n",
    "               'max_features': max_features,\n",
    "               'max_depth': max_depth,\n",
    "               'min_samples_split': min_samples_split,\n",
    "               'min_samples_leaf': min_samples_leaf,\n",
    "               'bootstrap': bootstrap}\n",
    "pprint(random_grid)\n",
    "{'bootstrap': [True, False],\n",
    " 'max_depth': [1,2,3,4,5],\n",
    " 'max_features': ['auto', 'sqrt'],\n",
    " 'min_samples_leaf': [1, 2],\n",
    " 'min_samples_split': [2, 5],\n",
    " 'n_estimators': []}"
   ]
  },
  {
   "cell_type": "code",
   "execution_count": 31,
   "id": "8f72dff0",
   "metadata": {
    "execution": {
     "iopub.execute_input": "2022-04-13T02:27:22.646748Z",
     "iopub.status.busy": "2022-04-13T02:27:22.645790Z",
     "iopub.status.idle": "2022-04-13T02:27:57.620550Z",
     "shell.execute_reply": "2022-04-13T02:27:57.621067Z",
     "shell.execute_reply.started": "2022-04-13T02:20:25.742094Z"
    },
    "papermill": {
     "duration": 35.034891,
     "end_time": "2022-04-13T02:27:57.621237",
     "exception": false,
     "start_time": "2022-04-13T02:27:22.586346",
     "status": "completed"
    },
    "tags": []
   },
   "outputs": [
    {
     "name": "stdout",
     "output_type": "stream",
     "text": [
      "Fitting 3 folds for each of 3 candidates, totalling 9 fits\n"
     ]
    },
    {
     "data": {
      "text/plain": [
       "RandomizedSearchCV(cv=3, estimator=RandomForestRegressor(), n_iter=3, n_jobs=-1,\n",
       "                   param_distributions={'bootstrap': [True, False],\n",
       "                                        'max_depth': [10, 20, 30, 40, 50, 60,\n",
       "                                                      70, 80, 90, 100, 110,\n",
       "                                                      None],\n",
       "                                        'max_features': ['auto', 'sqrt'],\n",
       "                                        'min_samples_leaf': [1, 2, 4],\n",
       "                                        'min_samples_split': [2, 5, 10],\n",
       "                                        'n_estimators': [200, 400, 600, 800,\n",
       "                                                         1000, 1200, 1400, 1600,\n",
       "                                                         1800, 2000]},\n",
       "                   random_state=42, verbose=2)"
      ]
     },
     "execution_count": 31,
     "metadata": {},
     "output_type": "execute_result"
    }
   ],
   "source": [
    "# Use the random grid to search for best hyperparameters\n",
    "# First create the base model to tune\n",
    "rf = RandomForestRegressor()\n",
    "# Random search of parameters, using 3 fold cross validation, \n",
    "# search across 100 different combinations, and use all available cores\n",
    "rf_random = RandomizedSearchCV(estimator = rf, param_distributions = random_grid, n_iter = 3, cv = 3, verbose=2, random_state=42, n_jobs = -1)\n",
    "# Fit the random search model\n",
    "rf_random.fit(X0_train, y0_train)"
   ]
  },
  {
   "cell_type": "code",
   "execution_count": 32,
   "id": "2181b450",
   "metadata": {
    "execution": {
     "iopub.execute_input": "2022-04-13T02:27:57.735616Z",
     "iopub.status.busy": "2022-04-13T02:27:57.734650Z",
     "iopub.status.idle": "2022-04-13T02:27:58.157760Z",
     "shell.execute_reply": "2022-04-13T02:27:58.158619Z",
     "shell.execute_reply.started": "2022-04-13T02:21:00.990031Z"
    },
    "papermill": {
     "duration": 0.482443,
     "end_time": "2022-04-13T02:27:58.158860",
     "exception": false,
     "start_time": "2022-04-13T02:27:57.676417",
     "status": "completed"
    },
    "tags": []
   },
   "outputs": [],
   "source": [
    "y_hyper_pred=rf_random.predict(X0_test)\n",
    "y_hyper_prde_0=rf_random.predict(X_test)"
   ]
  },
  {
   "cell_type": "markdown",
   "id": "d9041be5",
   "metadata": {
    "papermill": {
     "duration": 0.054839,
     "end_time": "2022-04-13T02:27:58.270285",
     "exception": false,
     "start_time": "2022-04-13T02:27:58.215446",
     "status": "completed"
    },
    "tags": []
   },
   "source": [
    "Evaluation matrix"
   ]
  },
  {
   "cell_type": "code",
   "execution_count": 33,
   "id": "609d40bc",
   "metadata": {
    "execution": {
     "iopub.execute_input": "2022-04-13T02:27:58.383881Z",
     "iopub.status.busy": "2022-04-13T02:27:58.383256Z",
     "iopub.status.idle": "2022-04-13T02:27:58.391967Z",
     "shell.execute_reply": "2022-04-13T02:27:58.391483Z",
     "shell.execute_reply.started": "2022-04-13T02:21:01.403597Z"
    },
    "papermill": {
     "duration": 0.066641,
     "end_time": "2022-04-13T02:27:58.392100",
     "exception": false,
     "start_time": "2022-04-13T02:27:58.325459",
     "status": "completed"
    },
    "tags": []
   },
   "outputs": [
    {
     "name": "stdout",
     "output_type": "stream",
     "text": [
      "3.2919606702939057\n",
      "0.9834829411764717\n",
      "2.330866149795222\n"
     ]
    }
   ],
   "source": [
    "from sklearn.metrics import mean_absolute_error\n",
    "pol_mae = mean_absolute_error(y0_test, y_pol_pred)\n",
    "print(pol_mae)\n",
    "random_mae = mean_absolute_error(y0_test, y_random_pred)\n",
    "print(random_mae)\n",
    "hyper_mae = mean_absolute_error(y0_test, y_hyper_pred)\n",
    "print(hyper_mae)"
   ]
  },
  {
   "cell_type": "code",
   "execution_count": 34,
   "id": "37a85906",
   "metadata": {
    "execution": {
     "iopub.execute_input": "2022-04-13T02:27:58.511461Z",
     "iopub.status.busy": "2022-04-13T02:27:58.510809Z",
     "iopub.status.idle": "2022-04-13T02:27:58.513058Z",
     "shell.execute_reply": "2022-04-13T02:27:58.512543Z",
     "shell.execute_reply.started": "2022-04-13T02:21:01.415614Z"
    },
    "papermill": {
     "duration": 0.065022,
     "end_time": "2022-04-13T02:27:58.513193",
     "exception": false,
     "start_time": "2022-04-13T02:27:58.448171",
     "status": "completed"
    },
    "tags": []
   },
   "outputs": [],
   "source": [
    "from IPython.display import HTML\n",
    "import base64\n",
    "def create_download_link(df, title = \"Download CSV file\", filename = \"data.csv\"):  \n",
    "    csv = df.to_csv()\n",
    "    b64 = base64.b64encode(csv.encode())\n",
    "    payload = b64.decode()\n",
    "    html = '<a download=\"{filename}\" href=\"data:text/csv;base64,{payload}\" target=\"_blank\">{title}</a>'\n",
    "    html = html.format(payload=payload,title=title,filename=filename)\n",
    "    return HTML(html)"
   ]
  },
  {
   "cell_type": "code",
   "execution_count": 35,
   "id": "1ad02c96",
   "metadata": {
    "execution": {
     "iopub.execute_input": "2022-04-13T02:27:58.629184Z",
     "iopub.status.busy": "2022-04-13T02:27:58.628573Z",
     "iopub.status.idle": "2022-04-13T02:27:58.641707Z",
     "shell.execute_reply": "2022-04-13T02:27:58.642209Z",
     "shell.execute_reply.started": "2022-04-13T02:21:01.423917Z"
    },
    "papermill": {
     "duration": 0.072646,
     "end_time": "2022-04-13T02:27:58.642401",
     "exception": false,
     "start_time": "2022-04-13T02:27:58.569755",
     "status": "completed"
    },
    "tags": []
   },
   "outputs": [
    {
     "data": {
      "text/html": [
       "<div>\n",
       "<style scoped>\n",
       "    .dataframe tbody tr th:only-of-type {\n",
       "        vertical-align: middle;\n",
       "    }\n",
       "\n",
       "    .dataframe tbody tr th {\n",
       "        vertical-align: top;\n",
       "    }\n",
       "\n",
       "    .dataframe thead th {\n",
       "        text-align: right;\n",
       "    }\n",
       "</style>\n",
       "<table border=\"1\" class=\"dataframe\">\n",
       "  <thead>\n",
       "    <tr style=\"text-align: right;\">\n",
       "      <th></th>\n",
       "      <th>ID</th>\n",
       "      <th>EP</th>\n",
       "    </tr>\n",
       "  </thead>\n",
       "  <tbody>\n",
       "    <tr>\n",
       "      <th>0</th>\n",
       "      <td>8501.0</td>\n",
       "      <td>478.842576</td>\n",
       "    </tr>\n",
       "    <tr>\n",
       "      <th>1</th>\n",
       "      <td>8502.0</td>\n",
       "      <td>444.084424</td>\n",
       "    </tr>\n",
       "    <tr>\n",
       "      <th>2</th>\n",
       "      <td>8503.0</td>\n",
       "      <td>450.981210</td>\n",
       "    </tr>\n",
       "    <tr>\n",
       "      <th>3</th>\n",
       "      <td>8504.0</td>\n",
       "      <td>482.854541</td>\n",
       "    </tr>\n",
       "    <tr>\n",
       "      <th>4</th>\n",
       "      <td>8505.0</td>\n",
       "      <td>435.902364</td>\n",
       "    </tr>\n",
       "  </tbody>\n",
       "</table>\n",
       "</div>"
      ],
      "text/plain": [
       "       ID          EP\n",
       "0  8501.0  478.842576\n",
       "1  8502.0  444.084424\n",
       "2  8503.0  450.981210\n",
       "3  8504.0  482.854541\n",
       "4  8505.0  435.902364"
      ]
     },
     "execution_count": 35,
     "metadata": {},
     "output_type": "execute_result"
    }
   ],
   "source": [
    "id=df_test_copy['ID'].values\n",
    "finale_np_array=np.concatenate((id.reshape(len(id),1), y_hyper_prde_0.reshape(len(y_hyper_prde_0),1)),axis=1)\n",
    "answer_df=pd.DataFrame(finale_np_array,columns=['ID','EP'])\n",
    "answer_df.head()"
   ]
  },
  {
   "cell_type": "code",
   "execution_count": 36,
   "id": "d957851f",
   "metadata": {
    "execution": {
     "iopub.execute_input": "2022-04-13T02:27:58.760332Z",
     "iopub.status.busy": "2022-04-13T02:27:58.759684Z",
     "iopub.status.idle": "2022-04-13T02:27:58.774215Z",
     "shell.execute_reply": "2022-04-13T02:27:58.774715Z",
     "shell.execute_reply.started": "2022-04-13T02:21:01.449295Z"
    },
    "papermill": {
     "duration": 0.07482,
     "end_time": "2022-04-13T02:27:58.774880",
     "exception": false,
     "start_time": "2022-04-13T02:27:58.700060",
     "status": "completed"
    },
    "tags": []
   },
   "outputs": [
    {
     "data": {
      "text/html": [
       "<a download=\"data.csv\" href=\"data:text/csv;base64,LElELEVQCjAsODUwMS4wLDQ3OC44NDI1NzU2NDgxNDgxNwoxLDg1MDIuMCw0NDQuMDg0NDIzNjkwNDc2MwoyLDg1MDMuMCw0NTAuOTgxMjEwMzk2ODI0ODUKMyw4NTA0LjAsNDgyLjg1NDU0MDg4NjI0MzM0CjQsODUwNS4wLDQzNS45MDIzNjQwMDEzMjE4CjUsODUwNi4wLDQyOC4xODUwNDA4MjY3MjAwNwo2LDg1MDcuMCw0NTMuMTQzNDgwOTI1OTI2MQo3LDg1MDguMCw0NjIuNDM2NTc2MjgzMDY4Mwo4LDg1MDkuMCw0NTQuMTg3MzQ3NzU3OTM2MDQKOSw4NTEwLjAsNDcwLjExODk5Mjk0MzEyMTUKMTAsODUxMS4wLDQ4My4wOTg3NTczNjc3MjQ5CjExLDg1MTIuMCw0NjcuNjM4MjU0MzI1Mzk3MgoxMiw4NTEzLjAsNDc3LjMwODUzMjA4MzMzMzYKMTMsODUxNC4wLDQ1Mi42Nzc2NTMyMTQyODUzCjE0LDg1MTUuMCw0NTkuNzI2MTI0ODA4MjAyMwoxNSw4NTE2LjAsNDYxLjE0ODAxMTAzMTc0NjIKMTYsODUxNy4wLDQzMi4zNzgyNDg3MjM1NDQ4CjE3LDg1MTguMCw0NDQuODc5ODk1MzkwMjExNAoxOCw4NTE5LjAsNDMxLjE4OTkzOTE5MzEyMTQ2CjE5LDg1MjAuMCw0ODIuNjYzNTQ3NjQ1NTAyOTQKMjAsODUyMS4wLDQ1NC43NjI1NjAwOTkyMDU3CjIxLDg1MjIuMCw0NjUuNDAyMDE5MDg3MzAwOTcKMjIsODUyMy4wLDQ0Ny44NTExNzAzNzAzNzA2CjIzLDg1MjQuMCw0NzYuMjY3MzU2ODQ1MjM4MDYKMjQsODUyNS4wLDQ2NC4yMTA1MzU1MDI2NDU1CjI1LDg1MjYuMCw0NzIuMTI0NjEwMjE4MjUzNgoyNiw4NTI3LjAsNDc2LjcwNTA3MTUzNDM5MTQ0CjI3LDg1MjguMCw0MzIuOTEzMjA3MTU2MDg0ODcKMjgsODUyOS4wLDQzNy40MTU2MTc4MDQyMzI0NQoyOSw4NTMwLjAsNDc5LjQ2ODA3NTYyNDA5NzI1CjMwLDg1MzEuMCw0MzcuNTkwNTIxNjQwMjExNAozMSw4NTMyLjAsNDQwLjQ3NzA1NjA1ODIwMTMKMzIsODUzMy4wLDQ0NS4xMTk5NzEwNTgyMDA4NgozMyw4NTM0LjAsNDQ1LjI3NTM3NzQ0MDQ3NjUKMzQsODUzNS4wLDQ4NC4yMjQxMzkwMDc5MzYwNgozNSw4NTM2LjAsNDc1Ljc0NTI2MDQ4OTQxODIKMzYsODUzNy4wLDQzNC43MzE2NDQzMTIxNjkyCjM3LDg1MzguMCw0NDIuNTEwOTU0MDY3NDYwMjYKMzgsODUzOS4wLDQ2My4xMzAwOTcwOTY1NjA3NQozOSw4NTQwLjAsNDMxLjY3MDg0MDU0MjMyODIKNDAsODU0MS4wLDQzMy4zNjkzNzUxOTg0MTI4NQo0MSw4NTQyLjAsNDM4LjUyMjI0NjkzMTIxNjUKNDIsODU0My4wLDQzMy45NTUxMjA4NDY1NjA4CjQzLDg1NDQuMCw0NTAuMDg0MDM3NDgwMTU4NjYKNDQsODU0NS4wLDQ1MS43MjMwMDEyODk2ODIxCjQ1LDg1NDYuMCw0MzguNzc0MTA2NTI3Nzc3OQo0Niw4NTQ3LjAsNDQ3LjkwOTM3MzUxMTkwNDcKNDcsODU0OC4wLDQ0Ny4yNjMyMDgxOTQ0NDQ4CjQ4LDg1NDkuMCw0NjMuNTgzNDQ1NjQ4MTQ4Mwo0OSw4NTUwLjAsNDM4LjAzMjY1MTAzMTc0NTU2CjUwLDg1NTEuMCw0NDIuMTU2MDI4NDE5MzExNwo1MSw4NTUyLjAsNDc1LjIzMzMwMTYzMzU5ODY3CjUyLDg1NTMuMCw0NDUuMTg5NTk4OTk0NzA4MQo1Myw4NTU0LjAsNDY2Ljg3MDM3NTQ4OTQxNzAzCjU0LDg1NTUuMCw0MzMuNTA4NjI3OTU2MzQ5MTMKNTUsODU1Ni4wLDQ3Ni41ODcyNzE3NDYwMzE5NAo1Niw4NTU3LjAsNDQxLjAwMjk4OTk5OTk5OTkKNTcsODU1OC4wLDQ2MC44OTc1OTI1MjY0NTU1CjU4LDg1NTkuMCw0NDUuMTQ4ODY2MDA1MjkxNTUKNTksODU2MC4wLDQ0NS4xNTEzMzAxNjUzNDQxCjYwLDg1NjEuMCw0MzQuNTY1ODMwMDQ2Mjk2NQo2MSw4NTYyLjAsNDUxLjAyMTQxOTE0NjgyNDk0CjYyLDg1NjMuMCw0MzUuMjU1NDA0NTYzNDkyNTYKNjMsODU2NC4wLDQ4Ni40ODU5NzkxMDcxNDE5Mwo2NCw4NTY1LjAsNDYxLjM2MjE1NDk0NzA5MDYzCjY1LDg1NjYuMCw0MzcuOTMxMTMxMDExOTA1CjY2LDg1NjcuMCw0NzguMjM0MjMyMzIxNDI4Nwo2Nyw4NTY4LjAsNDY4LjcwMTg1MDUzNTcxNDMKNjgsODU2OS4wLDQ2Ny41MTA5MjU1MDI2NDYwNQo2OSw4NTcwLjAsNDcxLjA4MjQ1NDcyODgzNTcKNzAsODU3MS4wLDQzMy45MjE5NDg4ODg4ODk2CjcxLDg1NzIuMCw0NzMuMjQwOTQyNTk5MjA1NzcKNzIsODU3My4wLDQ0MS42NzQ4NTQyMTk1NzY2CjczLDg1NzQuMCw0NDQuMDk2MzUwNjY3OTg5NjcKNzQsODU3NS4wLDQzNS44ODk4NTk5NjAzMTc0Cjc1LDg1NzYuMCw0MzQuNDkxNTk4NDQ1NzY3Cjc2LDg1NzcuMCw0MzIuNDEyNzI0ODIxNDI4NzUKNzcsODU3OC4wLDQ0My42NzIzNTYzOTU1MDI4NQo3OCw4NTc5LjAsNDUxLjg0MTkwODcyMzU0NDQKNzksODU4MC4wLDQ4My4zMDUzNjMzMjAxMDU2NAo4MCw4NTgxLjAsNDQ5LjA5NzI0OTU4OTk0NzIKODEsODU4Mi4wLDQ0OC42OTMyODc0MjA2MzQ3CjgyLDg1ODMuMCw0NjUuODUyMjM3ODMwNjg4MDcKODMsODU4NC4wLDQ0OC4wNjAxMzUwNTI5MDk5Cjg0LDg1ODUuMCw0NDkuMDcwMDE5MzE4NzgyNwo4NSw4NTg2LjAsNDU2Ljc4NDIxNTAzOTY4Mjg2Cjg2LDg1ODcuMCw0MzUuMjQ1MjYzMDM1NzE0Mwo4Nyw4NTg4LjAsNDU5LjgyMzQ4NzQ1MzcwNDEKODgsODU4OS4wLDQ1Mi41Mzc0NTY1NDc2MTg5Cjg5LDg1OTAuMCw0MzYuNTQ0MDE3MTY5MzEyMQo5MCw4NTkxLjAsNDM5LjI0MjQwMDkxOTMxMTcKOTEsODU5Mi4wLDQ0My4yNzA3MTQ4NzQzMzgxCjkyLDg1OTMuMCw0NDguMDE5NzAxNDgxNDgwOAo5Myw4NTk0LjAsNDQ4Ljg4MjMyNTMzMDY4ODE2Cjk0LDg1OTUuMCw0NzUuODY0MzY2NTQxMDA0NjQKOTUsODU5Ni4wLDQzOS4wMzc5Mjk2Mjk2Mjk1Ngo5Niw4NTk3LjAsNDMwLjI3OTE3MjM1NDQ5NzUKOTcsODU5OC4wLDQ1Mi40ODcwMjExNDQxODAzNQo5OCw4NTk5LjAsNDY0LjI0NzAyNTUxNTg3MjgKOTksODYwMC4wLDQ2MC43Mjc1OTQ2NDI4NTY3CjEwMCw4NjAxLjAsNDQxLjA1NTU2MDg3OTYyOTQKMTAxLDg2MDIuMCw0NjYuNjgwMDY4MTA4NDY1MwoxMDIsODYwMy4wLDQ0NC41MjEyNjk2NjkzMTE5CjEwMyw4NjA0LjAsNDM2LjY3OTA2NTg3MzAxNjA0CjEwNCw4NjA1LjAsNDM0LjI4NzYwMTkxNzk4OTYKMTA1LDg2MDYuMCw0NjkuNTAyOTI0NjgyNTQwMgoxMDYsODYwNy4wLDQ2NS4yMjYzOTIzODA5NTIzCjEwNyw4NjA4LjAsNDcwLjgzNzgxOTQzNzgzMDY2CjEwOCw4NjA5LjAsNDc3LjcwMjUzMTgyNTM5NjM2CjEwOSw4NjEwLjAsNDQ4LjQ4MTk1NDgwODIwMTQKMTEwLDg2MTEuMCw0NzMuMTM4MjQzMTE1MDc5MTUKMTExLDg2MTIuMCw0MzcuODMwNTE0MDE0NTQ5ODYKMTEyLDg2MTMuMCw0NTAuNTAwNjkyMjQyMDY0NAoxMTMsODYxNC4wLDQ2OC4wMjcyMDMwMTU4NzMxCjExNCw4NjE1LjAsNDUyLjU5OTQ3MDM1MDUyODkKMTE1LDg2MTYuMCw0NDMuNDkzODgyNTEzMjI3NQoxMTYsODYxNy4wLDQ2MC42MjI2ODIyOTQ5NzM0NgoxMTcsODYxOC4wLDQ1OS43NDI2NzgzMDAyNjQzNAoxMTgsODYxOS4wLDQ3NS4yNjgzODc2NTg3Mjk4CjExOSw4NjIwLjAsNDM1LjU1MTc0NjcyNjE5MDgKMTIwLDg2MjEuMCw0NDAuNTYyNzMxNzkyMzI3NwoxMjEsODYyMi4wLDQ1OS45NzAzOTQ3NDg2Nzc0CjEyMiw4NjIzLjAsNDgyLjM4NDU5MzI5MzY1MDk0CjEyMyw4NjI0LjAsNDcxLjA3NzkzMDM4MzU5Nzg1CjEyNCw4NjI1LjAsNDMwLjQ0NTczNjUwNzkzNjU0CjEyNSw4NjI2LjAsNDQxLjMwNDMwMDU4ODYyNAoxMjYsODYyNy4wLDQ1My40NjE4MzY2OTMxMjIwNQoxMjcsODYyOC4wLDQ2Ny4zMzE1MzcxNTYwODQ1CjEyOCw4NjI5LjAsNDgxLjkxMzI2OTgzNDY1NTkKMTI5LDg2MzAuMCw0MzAuNDYwNjUxNjIwMzY5OAoxMzAsODYzMS4wLDQ3Ni41Mjc5OTA4MDY4NzgxNwoxMzEsODYzMi4wLDQ3Ni4wNjQzNzc0NjAzMTc3CjEzMiw4NjMzLjAsNDQ1LjQ0MjQ1MTgxODc4MzYKMTMzLDg2MzQuMCw0MzcuNTY1MTgwMDEzMjI3MjMKMTM0LDg2MzUuMCw0MzIuNTI2MTk5NTE3MTk1OAoxMzUsODYzNi4wLDQ0OS4yMjI3MDkzMTIxNjkwNgoxMzYsODYzNy4wLDQ2MC4wMTU3MTcwNDM2NTEzNgoxMzcsODYzOC4wLDQzMy40ODc0NDIyNzUxMzE4NQoxMzgsODYzOS4wLDQ3MC4yOTMwMTk5NzM1NDUKMTM5LDg2NDAuMCw0NzYuMTIxMTM3NjUyMTE2MwoxNDAsODY0MS4wLDQ3Mi4zODIyNjMwNjg3ODMKMTQxLDg2NDIuMCw0NDIuNDk3NDYwMDI2NDU0NjMKMTQyLDg2NDMuMCw0NzUuMzk0OTIzOTIxOTU3NzQKMTQzLDg2NDQuMCw0MzMuNDk3MDk5ODc0MzM3ODMKMTQ0LDg2NDUuMCw0MzUuMjMwNzI1NjY3OTg5NzYKMTQ1LDg2NDYuMCw0NzkuNzE3MDg5MTEzNzU2NAoxNDYsODY0Ny4wLDQzMC4xNDgxOTI3ODQzOTE2CjE0Nyw4NjQ4LjAsNDQ2LjYxODc2MTU4NzMwMjM0CjE0OCw4NjQ5LjAsNDM0Ljg5MDE4MTA1MTU4NzQzCjE0OSw4NjUwLjAsNDQ3Ljg5NTUyMzYzNzU2NjEKMTUwLDg2NTEuMCw0NjguNzc2ODM0ODA4MjAxMDQKMTUxLDg2NTIuMCw0NDIuNDY0MjY4MTI4MzA2OAoxNTIsODY1My4wLDQ4Ni43NTAyNDc3MTE2NAoxNTMsODY1NC4wLDQ3NC42OTMwMzQ0NzA4OTk2NQoxNTQsODY1NS4wLDQ1MC41OTU0Nzg2NjQwMjA4CjE1NSw4NjU2LjAsNDMyLjQyMjQ1MTU4MDY4Nzk1CjE1Niw4NjU3LjAsNDY3LjM2ODk2NDY4OTE1Mzg3CjE1Nyw4NjU4LjAsNDY2LjU0MzU1MDMyNDA3NDEKMTU4LDg2NTkuMCw0ODIuNDc4MTk1MDk5MjA2NDYKMTU5LDg2NjAuMCw0NTQuMDEzNTY5NTcwMTA2MDMKMTYwLDg2NjEuMCw0NjIuMDY4MTAyNTk5MjA2MgoxNjEsODY2Mi4wLDQzNy45MTcxNjAwMDY2MTQ1NQoxNjIsODY2My4wLDQzOS45NzMxMjU1ODIwMTA0CjE2Myw4NjY0LjAsNDY0LjU4MDQ1NjcxMjk2MzE2CjE2NCw4NjY1LjAsNDM1LjE5MTU0NTU4MjAxMDg2CjE2NSw4NjY2LjAsNDYxLjEyNzMzMzE2Nzk4OTU1CjE2Niw4NjY3LjAsNDU1LjA4NTQ5Nzk4MjgwNAoxNjcsODY2OC4wLDQ0MC40NzAyOTAyNTc5MzY2NQoxNjgsODY2OS4wLDQ0Mi43MDI1NDUxNzE5NTczNQoxNjksODY3MC4wLDQ2NC4xNzkwNTkyOTg5NDIwNAoxNzAsODY3MS4wLDQzNi43MjcxOTYxMTExMTA5CjE3MSw4NjcyLjAsNDc4LjkyOTA3MzE5NDQ0MzUKMTcyLDg2NzMuMCw0ODYuOTUxMzE2OTU3NjcxNTcKMTczLDg2NzQuMCw0MzUuNzg1MDQwOTMyNTM5MgoxNzQsODY3NS4wLDQ4Ny4zNTE3NTUyMzE0ODE3CjE3NSw4Njc2LjAsNDQyLjk0MjY4NjMzNTk3ODEKMTc2LDg2NzcuMCw0MzguNTA5NDUwMjExNjQKMTc3LDg2NzguMCw0MzIuMDQ4NDE5MDg3MzAxNAoxNzgsODY3OS4wLDQ1NC4wNjk2NDI4NjM3NTcxCjE3OSw4NjgwLjAsNDcxLjA5Nzk2OTM1MTg1MTkKMTgwLDg2ODEuMCw0MzQuMTk4OTA5NTgzMzMzODMKMTgxLDg2ODIuMCw0NjUuNzQ5ODk1Mjc3Nzc4NjUKMTgyLDg2ODMuMCw0NjMuNjQxODQ3MjIyMjIyNzQKMTgzLDg2ODQuMCw0MzIuNTM0OTE4Nzg5NjgyOAoxODQsODY4NS4wLDQzNS42MjMxMjk2NzU5MjYxCjE4NSw4Njg2LjAsNDQzLjM4NDYxMjE5NTc2NzAzCjE4Niw4Njg3LjAsNDc2LjgyOTM3NTI5MTAwNTYKMTg3LDg2ODguMCw0NDUuODc4ODI1NjYxMzc1OAoxODgsODY4OS4wLDQzNC45MTMyODA4MTM0OTE5NQoxODksODY5MC4wLDQ0NS4zNjcwMjg0MzkxNTM0CjE5MCw4NjkxLjAsNDQ2LjM2OTczNDI5MjMyNzgKMTkxLDg2OTIuMCw0MjkuNzExOTUxNTgwNjg3MgoxOTIsODY5My4wLDQ0My4wNDg1MjE3NzkxMDAxCjE5Myw4Njk0LjAsNDc2LjQwMjU2NTAyNjQ1NTUzCjE5NCw4Njk1LjAsNDY3LjE4NTQzMjk4OTQxOAoxOTUsODY5Ni4wLDQ0NS42MTEzODg2NjQwMjEwNAoxOTYsODY5Ny4wLDQ4MS40NjI2Mjg0MTI2OTg1CjE5Nyw4Njk4LjAsNDU5LjM5OTIxNjIzMDE1ODkKMTk4LDg2OTkuMCw0NTQuMTUwMjgzNjE3NzI1MDUKMTk5LDg3MDAuMCw0MzIuMTkzODIyMjAyMzgxNAoyMDAsODcwMS4wLDQ1Ni4yMjE2OTg2ODM4NjI5NAoyMDEsODcwMi4wLDQ1NS4wNTk4NTMyNTM5Njc5NgoyMDIsODcwMy4wLDQ2My43NzU4NTMxNDE1MzU1CjIwMyw4NzA0LjAsNDQ3LjE4MTQ0MzYwNDQ5NzM2CjIwNCw4NzA1LjAsNDM1Ljc2MjU2MDQ0OTczNTY0CjIwNSw4NzA2LjAsNDYzLjQzNjgxMDgzMzMzMzIKMjA2LDg3MDcuMCw0NzUuNDcyMDUxNzc5MTAwNQoyMDcsODcwOC4wLDQ0NC43ODYwODk2NDk0NzEKMjA4LDg3MDkuMCw0MzkuODg2NjI2NjEzNzU2NzMKMjA5LDg3MTAuMCw0NTUuMDI2NzAyMTAzMTc0OTYKMjEwLDg3MTEuMCw0NzcuMzkwOTUyNDk5OTk5NgoyMTEsODcxMi4wLDQ2OS42ODE4ODE3MTk1Nzc5CjIxMiw4NzEzLjAsNDY3LjQ4MTAxMzkyMTk1Nzc1CjIxMyw4NzE0LjAsNDU1LjU0NzkwNjg3ODMwNjcKMjE0LDg3MTUuMCw0NzguNzExODE1ODIwMTA2MDQKMjE1LDg3MTYuMCw0NDMuMDUzMTU5Njc1OTI0NwoyMTYsODcxNy4wLDQ3OC40MDI3MjQ5OTU3OTAyNwoyMTcsODcxOC4wLDQ0My40NDE2OTUzMTc0NTk5CjIxOCw4NzE5LjAsNDQ1LjA4OTM1NjQ4MTQ4MTUKMjE5LDg3MjAuMCw0NjAuNTU1NTQ3MDAzOTY4ODUKMjIwLDg3MjEuMCw0NjIuMDI4NTQ0NTc2NzIwNAoyMjEsODcyMi4wLDQ0NS44NDUwNTE5NTEwNTgKMjIyLDg3MjMuMCw0MzkuNDM2MDYzMDU1NTU1NwoyMjMsODcyNC4wLDQzNC45MzI2MjgwNTU1NTUzNwoyMjQsODcyNS4wLDQyOC42MzY1Nzg2NDQxODA1MwoyMjUsODcyNi4wLDQ0NS44OTAyMjg4ODIyNzQ4CjIyNiw4NzI3LjAsNDYyLjU2NDk3NjY5OTczNDg3CjIyNyw4NzI4LjAsNDY0LjQwMTk5NjM5NTUwMjIKMjI4LDg3MjkuMCw0MzUuNjE1MDAxMjUwMDAwMDMKMjI5LDg3MzAuMCw0NDUuMDk2NDkyMDAzOTY3ODUKMjMwLDg3MzEuMCw0MzUuMTE4NzExNzY1ODcyOQoyMzEsODczMi4wLDQ0My40OTA3MzM4NjI0MzM5CjIzMiw4NzMzLjAsNDM5LjA1ODQ0MDk2NTYwODg0CjIzMyw4NzM0LjAsNDQ2LjUyMDk4MDIyNDg2NzYKMjM0LDg3MzUuMCw0NTguNDY0Njg2NjIwMzcwNAoyMzUsODczNi4wLDQ1OS41ODM3OTYwNjQ4MTQyCjIzNiw4NzM3LjAsNDM4LjEzNTQzMDU4MjAxMDYKMjM3LDg3MzguMCw0NzMuMjE3Mjc5NjIzMDE1NzcKMjM4LDg3MzkuMCw0NTMuODIxMjA1Mzk2ODI1ODYKMjM5LDg3NDAuMCw0MzAuOTQ0OTU1MDMzMDY5NAoyNDAsODc0MS4wLDQ0My44NzI2NzU4NzMwMTY0CjI0MSw4NzQyLjAsNDczLjQ4OTMwMjc1MTMyMjgKMjQyLDg3NDMuMCw0MzUuMjA3MTQ1OTQ1NzY3NAoyNDMsODc0NC4wLDQ1Ny4yNjU1NDMwMjkxMDEKMjQ0LDg3NDUuMCw0NTguMjEyMDQ5ODA4MjAxMQoyNDUsODc0Ni4wLDQ3Ni41MTY4MzMwNDIzMjgzNgoyNDYsODc0Ny4wLDQzNC4wNzQ5MjM2MTExMTE0NAoyNDcsODc0OC4wLDQ1Mi44NTM3MTM4NDI1OTI0NwoyNDgsODc0OS4wLDQ0MS4xODIxOTgzMzMzMzM3NgoyNDksODc1MC4wLDQzNy43MzgyMTE2NDAyMTE3CjI1MCw4NzUxLjAsNDMzLjY2MTE3NzAzMDQyMzA2CjI1MSw4NzUyLjAsNDM1LjE2ODkwNDA0NzYxOTI2CjI1Miw4NzUzLjAsNDc3LjQwNjAwNTkyNTkyNjM3CjI1Myw4NzU0LjAsNDU5LjcxNTU3NzkxNjY2NzEKMjU0LDg3NTUuMCw0NzQuMTUwMjA2Mjg5NjgyMTYKMjU1LDg3NTYuMCw0NjguMDY4NjUxMjQzMzg1MwoyNTYsODc1Ny4wLDQ0MC40NTExNjIzOTQxODAyNAoyNTcsODc1OC4wLDQ2Ni4wNTkyNTk5MDc0MDcxCjI1OCw4NzU5LjAsNDc5Ljk0NDE3MjM2MTExMQoyNTksODc2MC4wLDQ0OS42OTY5NzYzOTU1MDMKMjYwLDg3NjEuMCw0MzUuODA3MjMyMDUwMjY0NzYKMjYxLDg3NjIuMCw0NjkuNDc4NTE3ODI0MDczOAoyNjIsODc2My4wLDQ2NS44MTUxNjMxODc4MzA2NQoyNjMsODc2NC4wLDQ4My44OTA4Mzg3NzY0NTQ0CjI2NCw4NzY1LjAsNDQyLjk3NzE4Mzg3NTY2MTcKMjY1LDg3NjYuMCw0NzkuNjg3MzgzMzUzMTc0MjUKMjY2LDg3NjcuMCw0NTMuMDIwNTQ4NjgzODYzMQoyNjcsODc2OC4wLDQ1OC4yMzQ2NjQ4MTQ4MTQ4MwoyNjgsODc2OS4wLDQ3NC4xMjczNzQxNDAyMTE3CjI2OSw4NzcwLjAsNDcxLjkyMDg2Njc0NjAzMTYKMjcwLDg3NzEuMCw0NjguNTA4MzU2MTA0NDk3NwoyNzEsODc3Mi4wLDQ2NC4zMzk4MDU2MTUwNzk2CjI3Miw4NzczLjAsNDQzLjQ2MTI0MTgwNTU1NTcKMjczLDg3NzQuMCw0NzEuMDg2OTYxMTI0MzM4MzYKMjc0LDg3NzUuMCw0NTYuMjE3NDk3NDg2NzcyOTcKMjc1LDg3NzYuMCw0NDguNzU0NzMxMDc4MDQyNAoyNzYsODc3Ny4wLDQzNC4yODcwMTE5MTEzNzU2NgoyNzcsODc3OC4wLDQ3OC4wMjk5NjU2NDE1MzUyCjI3OCw4Nzc5LjAsNDU3LjExODMyNDgyODA0MjMKMjc5LDg3ODAuMCw0MzQuMjU3OTc5Nzg4MzYKMjgwLDg3ODEuMCw0NjkuNzk5OTM4MjAxMDU4NDcKMjgxLDg3ODIuMCw0MzYuMzkxMTU1Mjc3Nzc3OAoyODIsODc4My4wLDQ2MC40ODYyNjM2NjQwMjEzCjI4Myw4Nzg0LjAsNDQ3LjYzODYwNjUwNzkzNjQKMjg0LDg3ODUuMCw0NTAuNTU2MjAwMzgzNTk4MjUKMjg1LDg3ODYuMCw0NDMuNTcwMDcyMjU1MjkxMzQKMjg2LDg3ODcuMCw0MzIuNjQyMTA5MTg2NTA3NgoyODcsODc4OC4wLDQ0NC45MDg0MTIwMTcxOTYwNAoyODgsODc4OS4wLDQ1My45NzQ3NzMzMzMzMzMzNgoyODksODc5MC4wLDQ4NC4wOTA4ODgzNjY0MDIzNAoyOTAsODc5MS4wLDQ0Ni44MjM4NzI1Mzk2ODM5CjI5MSw4NzkyLjAsNDY3Ljg4NTA3OTI3OTEwMTAzCjI5Miw4NzkzLjAsNDY5LjMyMTY0MTk1NzY3MjM0CjI5Myw4Nzk0LjAsNDM0LjY4MDE5ODE2MTM3NTc2CjI5NCw4Nzk1LjAsNDcxLjcxMDc0MjY5ODQxMwoyOTUsODc5Ni4wLDQ4NC42MTQ0NDMxMDg0NjUxNAoyOTYsODc5Ny4wLDQzNS4xNDI5NDg5MDg3MzAyNgoyOTcsODc5OC4wLDQ2Ny4xMTU3MDE4Mzg2MjM3CjI5OCw4Nzk5LjAsNDgzLjMwMTY1MTQwODczCjI5OSw4ODAwLjAsNDQ3LjMzMDE3NDYyMzAxNTUKMzAwLDg4MDEuMCw0NTIuNTE3MTkzNTcxNDI4ODMKMzAxLDg4MDIuMCw0MzcuODE2NTU1NzY3MTk2CjMwMiw4ODAzLjAsNDc0LjA2MjYyNTE2NTM0NDkKMzAzLDg4MDQuMCw0NzEuMDkyMzI0MjQ2MDMxNjQKMzA0LDg4MDUuMCw0MzQuNTcwMDM0MTYwMDUyNjcKMzA1LDg4MDYuMCw0MzAuNDUxMzE4NDg1NDQ4ODQKMzA2LDg4MDcuMCw0MzUuMzI4MjkwODUzMTc0MgozMDcsODgwOC4wLDQ4NS45MTgyNDIzMDE1ODc1CjMwOCw4ODA5LjAsNDYwLjk0Njc2MDc1Mzk2Nzg1CjMwOSw4ODEwLjAsNDM0LjkwODg5OTc2MTkwNDMKMzEwLDg4MTEuMCw0NDEuMjM5MjI4NzE2OTMxMzQKMzExLDg4MTIuMCw0NTcuODUxMzQ5MTAwNTI4OQozMTIsODgxMy4wLDQzNi4xNzg5Njg2OTA0NzU5CjMxMyw4ODE0LjAsNDQ5LjQ3NzM3MDQ0OTczNTI1CjMxNCw4ODE1LjAsNDcyLjMyNjI1MDY4MTIxNzA2CjMxNSw4ODE2LjAsNDc4LjkzNDc4NDQ1MTA1ODM2CjMxNiw4ODE3LjAsNDUxLjQ1NjczODY3MDYzNQozMTcsODgxOC4wLDQ2Ni43MjQwNjA5OTIwNjMKMzE4LDg4MTkuMCw0NDIuMzA1MDEwMDI2NDU1MgozMTksODgyMC4wLDQ2NC42OTkzOTk4ODA5NTE2NgozMjAsODgyMS4wLDQ2Ny43NzYzNzU3MTQyODU2CjMyMSw4ODIyLjAsNDM2Ljk2OTA0ODkxNTM0NDE2CjMyMiw4ODIzLjAsNDMyLjcwMTUxMDQxNjY2Njc0CjMyMyw4ODI0LjAsNDU3LjU5NDI3NzYwNTgyMDUKMzI0LDg4MjUuMCw0MjkuNzM2NTcwNDM2NTA3NwozMjUsODgyNi4wLDQ2NC4yNzk2MTMyNDczNTUKMzI2LDg4MjcuMCw0MzQuODIyMjU4MTk0NDQ0NjYKMzI3LDg4MjguMCw0ODIuNzI0NjU5NjQyODU3CjMyOCw4ODI5LjAsNDgyLjE4NDQxNzE0OTQ3MDkKMzI5LDg4MzAuMCw0NjMuNjIxMzEzNzIzNTQ1MjYKMzMwLDg4MzEuMCw0NTYuNDYyMDM5ODAxNTg3MwozMzEsODgzMi4wLDQ2NS4xMzU5NTgxMzk3MzExCjMzMiw4ODMzLjAsNDgwLjIzNzkwNTg5Mjg1NjUzCjMzMyw4ODM0LjAsNDQ4LjQwNDM0MjkxNjY2NjQ1CjMzNCw4ODM1LjAsNDM5LjA3OTcwMDg1MzE3NDQKMzM1LDg4MzYuMCw0NDEuMjgyNzQ3Njk4NDEyNjYKMzM2LDg4MzcuMCw0ODMuNDc2ODU4NzMwMTU4OAozMzcsODgzOC4wLDQ4Ny41ODE1NjAwMzk2ODE5NgozMzgsODgzOS4wLDQ2NC4xNjYwMzU3ODA0MjQxCjMzOSw4ODQwLjAsNDM5LjUwMTkyODY4Mzg2MjMzCjM0MCw4ODQxLjAsNDUyLjYxNTA5OTkyNzI0ODI1CjM0MSw4ODQyLjAsNDM1Ljg3ODAxMTM0OTIwNjEzCjM0Miw4ODQzLjAsNDQ1Ljg3MDU5NDcyMjIyMTYKMzQzLDg4NDQuMCw0NTkuNzcxMzI1MTI1NjYxOAozNDQsODg0NS4wLDQzMy42MTIxNTIxNTYwODQ5NgozNDUsODg0Ni4wLDQzOC4zODcwNDQ2NDk0NzA4CjM0Niw4ODQ3LjAsNDU2LjAyMzU3MDA5MjU5MzMzCjM0Nyw4ODQ4LjAsNDU4LjMwNDE0NzY3MTk1NzgKMzQ4LDg4NDkuMCw0ODAuOTM0NDE3MjQ0NDY4NzYKMzQ5LDg4NTAuMCw0NjAuOTk1MjkxOTM3ODMxMDQKMzUwLDg4NTEuMCw0MzcuMDEyMzQxMTU3NDA3MwozNTEsODg1Mi4wLDQ0MC4zMzI3MDI3NjQ1NTA0NQozNTIsODg1My4wLDQ1MC40OTExMTk1MTcxOTU0NAozNTMsODg1NC4wLDQ2Ny43MTU1NDAzNTA1Mjk0CjM1NCw4ODU1LjAsNDc3LjgzNDMyNDQzNzgzMTEKMzU1LDg4NTYuMCw0NDEuMzgzNTIwNjk0NDQ0NgozNTYsODg1Ny4wLDQ1NS43MTEwNDEwNjQ4MTU0NQozNTcsODg1OC4wLDQzNy4xMzk5OTgxNzQ2MDM1CjM1OCw4ODU5LjAsNDM5LjgwMzIzNzc1NzkzNwozNTksODg2MC4wLDQ3NS41OTAzNzI4NzY5ODQzCjM2MCw4ODYxLjAsNDcxLjcxODc0ODk4MTQ4MTY3CjM2MSw4ODYyLjAsNDQ0LjI3ODA3MTY5OTczNTcKMzYyLDg4NjMuMCw0NDEuODQ4MzQwNjg3ODMwOTYKMzYzLDg4NjQuMCw0NDIuNDY0MDkzMDAyNjQ2MwozNjQsODg2NS4wLDQ0MS44MDExMzM4ODIyNzU0CjM2NSw4ODY2LjAsNDc5Ljg4NTcwOTI3OTEwMDcKMzY2LDg4NjcuMCw0NjguOTAyNDc4MDY4NzgyODQKMzY3LDg4NjguMCw0ODEuNzg3NjQxMTMwOTUyNAozNjgsODg2OS4wLDQ4OS4zNjI1MzQyNTkyNTg5NQozNjksODg3MC4wLDQ1OC45NDYzMTk0NTc2NzIyNQozNzAsODg3MS4wLDQ3NS4zNDg1NDEyMzY3NzM3NwozNzEsODg3Mi4wLDQ4NC45MzYyMDUyNDQ3MDkxCjM3Miw4ODczLjAsNDY0Ljg1ODMyNDE0MDIxMTgzCjM3Myw4ODc0LjAsNDc3LjIzNjM1MDU2ODc4MjgKMzc0LDg4NzUuMCw0NDcuOTY2MzI0NjQ5NDcxMjMKMzc1LDg4NzYuMCw0NDYuMTQzMjI3NTY2MTM3NAozNzYsODg3Ny4wLDQzNC43OTExNzYyNjk4NDE1NwozNzcsODg3OC4wLDQ4Ny45NjIxNzY5Nzc1MTI4CjM3OCw4ODc5LjAsNDM4LjUzMzYwNTg5OTQ3MDQKMzc5LDg4ODAuMCw0ODAuNTM3MDA3NTk5MjA2NAozODAsODg4MS4wLDQ2NC42MTA5MDYzMzU5Nzg5NAozODEsODg4Mi4wLDQ1My4xNDAwMzMyMTQyODYzCjM4Miw4ODgzLjAsNDQyLjUwNzc1OTYxNjQwMjE1CjM4Myw4ODg0LjAsNDM1LjczMzUzNzYxOTA0NzIKMzg0LDg4ODUuMCw0MjkuNTQyMjQ0MTEzNzU2MTcKMzg1LDg4ODYuMCw0NTEuOTA0MzkwODA2ODc4NwozODYsODg4Ny4wLDQzMi44NTg2MjU4NzMwMTU5NwozODcsODg4OC4wLDQ3MC42Mzg5NjY4ODQ5MjEwNQozODgsODg4OS4wLDQ0Mi42OTk2MDk3MjIyMjI2NQozODksODg5MC4wLDQ2Ni45NzM2ODkyNTkyNTg5NQozOTAsODg5MS4wLDQ0Ny4yOTkyMjMyMzQxMjc3NAozOTEsODg5Mi4wLDQ1MS4wNjAyMDg0MjU5MjYzCjM5Miw4ODkzLjAsNDQ2LjkyMzg5Njg2NTA3OTEKMzkzLDg4OTQuMCw0NDIuODM3MDUxMDc4MDQyCjM5NCw4ODk1LjAsNDU3LjU0ODA3NTYwODQ2NQozOTUsODg5Ni4wLDQyOC44NjgzNDUwMTk4NDE0NgozOTYsODg5Ny4wLDQ1Ny4wMDIwMjU2NDgxNDg1NgozOTcsODg5OC4wLDQ0Ny41MDE1NjA3MzQxMjY1NAozOTgsODg5OS4wLDQyNy42MTYzMjg4ODg4ODkzCjM5OSw4OTAwLjAsNDM3LjEwNzIwOTc0MjA2MzczCjQwMCw4OTAxLjAsNDQxLjMzNzk3MDM2Mzc1Njc3CjQwMSw4OTAyLjAsNDQzLjc3NzQ0NTM5MDIxMTgKNDAyLDg5MDMuMCw0NjIuODIzODM5MzA1NTU1MzQKNDAzLDg5MDQuMCw0NzYuNTgzMTA5MDU0MjMzNjYKNDA0LDg5MDUuMCw0NzYuNDI2OTA3MTA5Nzg4Nwo0MDUsODkwNi4wLDQ0Ny42NDg5MDEyOTYyOTYxCjQwNiw4OTA3LjAsNDQ4LjA5NTQzMDEyNTY2MDcKNDA3LDg5MDguMCw0NzMuMzEwMzE0ODM0NjU1MzQKNDA4LDg5MDkuMCw0MzkuNzA2OTc2MTgzODYyNwo0MDksODkxMC4wLDQ2OS44MTE3NDcwODk5NDcyCjQxMCw4OTExLjAsNDc1LjgwOTA3MTU4NzMwMTYKNDExLDg5MTIuMCw0MzEuNDM2NDgxNTQxMDA1Nwo0MTIsODkxMy4wLDQ3My44ODU0NDE5MDQ3NjExCjQxMyw4OTE0LjAsNDcyLjIyMDA2NjI1MDAwMDEKNDE0LDg5MTUuMCw0MzYuODYxOTUzMDM1NzE0Mwo0MTUsODkxNi4wLDQ3OC4yODAyMDc0MjcyNDg4CjQxNiw4OTE3LjAsNDM3LjMzNTE1NjA5Nzg4MjkzCjQxNyw4OTE4LjAsNDY3LjY4NzUzNTg4NjI0Mzg0CjQxOCw4OTE5LjAsNDQ4LjA5NzUyOTM3ODMwNjQzCjQxOSw4OTIwLjAsNDUzLjY4OTM1ODk2ODI1Mzk0CjQyMCw4OTIxLjAsNDMyLjE0MTc1Mzk4ODA5NTUKNDIxLDg5MjIuMCw0NDAuMTAxNjU0ODY3NzI1MQo0MjIsODkyMy4wLDQzNS4xMDQ4ODk0Nzc1MTI4Nwo0MjMsODkyNC4wLDQ3NS4yNDMzNzY2MjAzNzAwNAo0MjQsODkyNS4wLDQ0Ni4zNTAzMTI1OTkyMDU3CjQyNSw4OTI2LjAsNDQzLjQyMzk4NTQ0OTczNDUKNDI2LDg5MjcuMCw0NzYuNTg3MTAwNTE1ODczMTUKNDI3LDg5MjguMCw0NTUuNTg1MDU4MDI5MTAwMzcKNDI4LDg5MjkuMCw0NzEuNzU1OTYzNDkyMDYzOQo0MjksODkzMC4wLDQ0MC4yMjc1ODUwMjY0NTUxCjQzMCw4OTMxLjAsNDQxLjE2NDI1NjIwMzcwMzUzCjQzMSw4OTMyLjAsNDQyLjY2MDIwMjM4MDk1MjU3CjQzMiw4OTMzLjAsNDMxLjM3MDc4MjExNjQwMTgKNDMzLDg5MzQuMCw0ODMuMDYwNTA3NzI0ODY3NAo0MzQsODkzNS4wLDQzNS45MjYyNDcwODk5NDY5CjQzNSw4OTM2LjAsNDM0LjY4OTA1MTI2OTg0MDgzCjQzNiw4OTM3LjAsNDU0LjcyNTE4NjM2MjQzMzkKNDM3LDg5MzguMCw0MzguMDAxMDE5NzA4OTk0OTMKNDM4LDg5MzkuMCw0NDguNDkxMDIyMjY4NTE4Ngo0MzksODk0MC4wLDQzNS45NjEyMDE3NDYwMzEyNAo0NDAsODk0MS4wLDQ0OC44MTU3NjU2MzQ5MjA0CjQ0MSw4OTQyLjAsNDMzLjI2NTAzMDUwOTI1OTgKNDQyLDg5NDMuMCw0MzkuNTQ1OTc2MTUwNzkzNTQKNDQzLDg5NDQuMCw0NjguNzg1NDY1Mjk3NjE4OAo0NDQsODk0NS4wLDQ4My43MzA0OTYxODM4NjI2Nwo0NDUsODk0Ni4wLDQ0My4yODk1MzgyNTM5NjgxNQo0NDYsODk0Ny4wLDQ1NC4xMTA0MDkzMjUzOTY0Ngo0NDcsODk0OC4wLDQ2My4xOTU5NTYzNzU2NjE3CjQ0OCw4OTQ5LjAsNDg1LjgwNjE2NTk4NTQ1MDA0CjQ0OSw4OTUwLjAsNDQ0Ljg1ODQ0MjUxOTg0MDkKNDUwLDg5NTEuMCw0NjcuNjQyODUxMjk2Mjk2MQo0NTEsODk1Mi4wLDQ1NC44MjI4MjE0OTQ3MDkKNDUyLDg5NTMuMCw0MzEuMTQ5NzI1NzA3NjcxOTYKNDUzLDg5NTQuMCw0NjkuMDA0Nzc1MDA2NjEzNgo0NTQsODk1NS4wLDQ3NC40NTQ5NzE0OTQ3MDg3Mwo0NTUsODk1Ni4wLDQzMi41MzU5NDAzNzY5ODQwNgo0NTYsODk1Ny4wLDQ2OS4zODc2MTg1NzgwNDE5CjQ1Nyw4OTU4LjAsNDQ3Ljc2MDE3MzcxMDMxNzIKNDU4LDg5NTkuMCw0MzguNzA1ODYyOTAzNDM4Ngo0NTksODk2MC4wLDQ0Ni41MTQ4NDA1NDIzMjgwNQo0NjAsODk2MS4wLDQ1MS43MDc1NTYzODIyNzUyNAo0NjEsODk2Mi4wLDQ3MC44NDA5MTI1NTk1MjQxCjQ2Miw4OTYzLjAsNDg1LjI1NzI1Nzg5NjgyNTMKNDYzLDg5NjQuMCw0NjUuMzI1NjU5MTQ2ODI1CjQ2NCw4OTY1LjAsNDc5LjA5NzEzNjE0NDE3OTk2CjQ2NSw4OTY2LjAsNDQ4LjA2OTI4NDc0MjA2Mwo0NjYsODk2Ny4wLDQ1OS42NTQwMjczMjgwNDMKNDY3LDg5NjguMCw0NjUuNzYyMzcxMTA0NDk3MTYKNDY4LDg5NjkuMCw0MjkuNTQwMzA3NTA2NjEzNjYKNDY5LDg5NzAuMCw0NjEuMzUzODEwMDUyOTA5NzUKNDcwLDg5NzEuMCw0NjEuNjIyMTUzNjkwNDc1NTYKNDcxLDg5NzIuMCw0MzAuODg4MTMzMTY3OTg5OTYKNDcyLDg5NzMuMCw0NzYuNzA4NTE5Mzg0OTIwOQo0NzMsODk3NC4wLDQ2Mi43MDAzNTk1MTcxOTU2NAo0NzQsODk3NS4wLDQ0NS44OTAzMzM3NTY2MTM3Ngo0NzUsODk3Ni4wLDQ2NC45NjQ4Mzc3MDUwMjY5CjQ3Niw4OTc3LjAsNDY1Ljg4OTE2MzM2NjQwMjEKNDc3LDg5NzguMCw0NDkuNTIwNTEzMjI3NTEzNAo0NzgsODk3OS4wLDQ0NS4yNzg3ODYwMjUxMzIKNDc5LDg5ODAuMCw0NjQuMTQ2MjI0MjE5NTc2Nwo0ODAsODk4MS4wLDQ1MC4zNTEwOTU5MDYwODQ1NAo0ODEsODk4Mi4wLDQzNS4zNTg5Njg0MjU5MjYyNgo0ODIsODk4My4wLDQ5NC4zNzk3MzY0MzUxODU4Ngo0ODMsODk4NC4wLDQ4MS4xMzM0MDMzNTk3ODg2NAo0ODQsODk4NS4wLDQ0OS40ODc1NTkyOTg5NDIxMwo0ODUsODk4Ni4wLDQzOC41MzY2MTUyMTgyNTM2CjQ4Niw4OTg3LjAsNDU5LjY5NjM2MDAyNjQ1NTYKNDg3LDg5ODguMCw0NDUuNzMzOTg2ODA1NTU1OAo0ODgsODk4OS4wLDQzNi41MTQzOTE4MzIwMDk4NAo0ODksODk5MC4wLDQ0NS41MzMwMzUzNzY5ODQyMwo0OTAsODk5MS4wLDQ0NC4wNTE5OTYzNTU4MTk3Nwo0OTEsODk5Mi4wLDQ1My40NDg5MjU0NzYxOTAzNwo0OTIsODk5My4wLDQ1My44MjcwMjQ2Mjk2MzAyCjQ5Myw4OTk0LjAsNDY2LjY4NDQ3Njc1OTI1OTMKNDk0LDg5OTUuMCw0MzMuNjg3NjIxNTQ3NjE4Nwo0OTUsODk5Ni4wLDQzNS4yODEzNDQ3MzU0NDk3CjQ5Niw4OTk3LjAsNDgwLjY2MjkyMDU1NTU1NTEKNDk3LDg5OTguMCw0MzIuMjAwOTg3NjE5MDQ3NDUKNDk4LDg5OTkuMCw0NTAuNjAxMjU1MjcxMTYzNwo0OTksOTAwMC4wLDQzNC4yMjQ4NDIzMDE1ODY5Mwo1MDAsOTAwMS4wLDQ0Ny40NjEyMDc3MTE2Mzk5CjUwMSw5MDAyLjAsNDU5Ljc0MDQ0MzYxNzcyNTYKNTAyLDkwMDMuMCw0NTEuMTc1MDUyMjQyMDYyOQo1MDMsOTAwNC4wLDQ2Ni42NDYxNjE0MjE5NTc0Ngo1MDQsOTAwNS4wLDQ0NC4zMDc5MDEyMzAxNTg4NQo1MDUsOTAwNi4wLDQ1MS45MjEyOTIwNzEzMDgKNTA2LDkwMDcuMCw0NzEuNjk3NDg2ODg0OTIwNwo1MDcsOTAwOC4wLDQ1Ny4xOTQ5NDU2MDg0NjU0NQo1MDgsOTAwOS4wLDQ2MC4zMDYxMTQ3MTU2MDg4CjUwOSw5MDEwLjAsNDQzLjc4OTc2MDAxMzIyNzUKNTEwLDkwMTEuMCw0NTMuNzAzOTI2MzAyOTA5ODUKNTExLDkwMTIuMCw0NjEuMTEzNDQzNDUyMzgwNQo1MTIsOTAxMy4wLDQ5MC43NzEwOTQzNDUyMzgxCjUxMyw5MDE0LjAsNDUxLjM4NDcxNzA5NjU2MDU2CjUxNCw5MDE1LjAsNDUzLjkxMjAwMTkwODk3MTQKNTE1LDkwMTYuMCw0NzQuNjY3MzUwNDU2MzQ5MjUKNTE2LDkwMTcuMCw0NDAuMzYxNTExMjM2NzcyMzQKNTE3LDkwMTguMCw0MzQuOTgzMzgyODk2ODI0Nwo1MTgsOTAxOS4wLDQzNC43MzU2MTgzMjY3MTkxCjUxOSw5MDIwLjAsNDYyLjM1MTUwNTU3NTM5NjYKNTIwLDkwMjEuMCw0NjMuNzY2ODI1NjE1MDc5MTQKNTIxLDkwMjIuMCw0NzMuNDg3NTMyNDE0MDIwOAo1MjIsOTAyMy4wLDQ0NS4xOTE4NjgwMDkyNTkyCjUyMyw5MDI0LjAsNDcwLjI0NTQ4NjY4NjUwNzk1CjUyNCw5MDI1LjAsNDQxLjczNzczMDMzNzMwMTUKNTI1LDkwMjYuMCw0MzIuMjM0MDg1NjQ4MTQ4Mwo1MjYsOTAyNy4wLDQ3OC4wNTgwNzA5NTg5OTQ1CjUyNyw5MDI4LjAsNDQxLjczODUxMDQ3NjE5MDQKNTI4LDkwMjkuMCw0NzYuMzY0OTE5OTY2OTMxMDQKNTI5LDkwMzAuMCw0ODIuODkxODI4Nzc2NDU1NAo1MzAsOTAzMS4wLDQ3Ny43NDA0MjE2NTM0MzkyCjUzMSw5MDMyLjAsNDYyLjAxODQ5NDk0MDQ3NTkKNTMyLDkwMzMuMCw0MzIuMTE5Mjg3MzAxNTg3Mwo1MzMsOTAzNC4wLDQ0NS4xMjYzNjgyOTM2NTA1Ngo1MzQsOTAzNS4wLDQzMy4yOTI0NDg4NjkwNDczCjUzNSw5MDM2LjAsNDg0LjE5Mjg3ODU5Nzg4MzQ2CjUzNiw5MDM3LjAsNDc5LjE3ODUxNjI4MzA2ODkKNTM3LDkwMzguMCw0MzEuMDI0MTUzMDgyMDEwNAo1MzgsOTAzOS4wLDQ1OS43NDkyMzc5MDM0MzkxCjUzOSw5MDQwLjAsNDY0LjI2MDkzNzI1NTI5MTcKNTQwLDkwNDEuMCw0NzAuMjY5Mzc5Mjg1NzE0MTQKNTQxLDkwNDIuMCw0NjYuOTk3ODUxNDQxNzk4NzMKNTQyLDkwNDMuMCw0NjYuOTk2NjUwNDYxMTU5NQo1NDMsOTA0NC4wLDQ2NS44MTY5OTE0MzUxODUzCjU0NCw5MDQ1LjAsNDM5LjkyNTA1NzcwNTAyNjUKNTQ1LDkwNDYuMCw0NzQuMTc0NDIxMjk2Mjk2Nwo1NDYsOTA0Ny4wLDQ2NS4wMjQ1ODMxNTQ3NjE5Ngo1NDcsOTA0OC4wLDQzMi41MDk4NzA0OTYwMzE3CjU0OCw5MDQ5LjAsNDYzLjk1Njk4NDU3MDEwNTkKNTQ5LDkwNTAuMCw0NzAuNzA5OTc0NDE3OTg5NDMKNTUwLDkwNTEuMCw0MzQuMjk2NDgzOTY4MjU0NAo1NTEsOTA1Mi4wLDQ1NC40MTIyMDc5NzYxOTA1CjU1Miw5MDUzLjAsNDQ4LjgwNzEyOTEzMzU5ODQKNTUzLDkwNTQuMCw0ODQuOTMwMDIxODI1Mzk2Nwo1NTQsOTA1NS4wLDQ0Mi42OTgzOTMwMjI0ODY5CjU1NSw5MDU2LjAsNDYwLjk1Mzc1NzQzMzg2Mjg1CjU1Niw5MDU3LjAsNDgxLjYyOTIwNjMxNjEzNwo1NTcsOTA1OC4wLDQ0MC44MTIzNTc2MjU2NjE3CjU1OCw5MDU5LjAsNDY0LjUyNjE1MDAxOTg0MzIKNTU5LDkwNjAuMCw0NDUuMzM1NjcyNTU5NTIzNzQKNTYwLDkwNjEuMCw0NDQuMDkzMDAwNTIyNDg2Ngo1NjEsOTA2Mi4wLDQyOS42MTA0Mzg3MTY5MzA4NAo1NjIsOTA2My4wLDQzNC43NjAxOTMzNTMxNzQ0Mwo1NjMsOTA2NC4wLDQ0NC4yMzQ0MTU3NDA3NDA2CjU2NCw5MDY1LjAsNDYwLjQwNDgzNDAyNzc3NzU1CjU2NSw5MDY2LjAsNDc5Ljk0Mzc2MTE5NzA4OTcKNTY2LDkwNjcuMCw0NDEuMzc3NDIzOTE1MzQ0NAo1NjcsOTA2OC4wLDQ2Ni4yMDU3MjEzMDk1MjM5CjU2OCw5MDY5LjAsNDc3LjM1NTY3OTA4NzMwMTU1CjU2OSw5MDcwLjAsNDMyLjk3MDc3MDEzMjI3NTMKNTcwLDkwNzEuMCw0MzQuNDg3NTIyNTkyNTkyMTQKNTcxLDkwNzIuMCw0MzIuNTY5Mjg3Nzg0MzkwOQo1NzIsOTA3My4wLDQzMC40MTY4OTk2Mjk2Mjk2CjU3Myw5MDc0LjAsNDI3LjgzNTMyOTkzMzg2MjQKNTc0LDkwNzUuMCw0MzcuODkwNDY4OTM1MTg1MTQKNTc1LDkwNzYuMCw0NzYuNjgyMTY1ODkyODU3MQo1NzYsOTA3Ny4wLDQ1MS44NzgwOTg4MDI5MTAxMwo1NzcsOTA3OC4wLDQ0Ni45MjcyNDE1MTQ1NQo1NzgsOTA3OS4wLDQ1My42MDA5NzA3NjA1ODEzCjU3OSw5MDgwLjAsNDMzLjQ3MzIwNDAwNzkzNjUKNTgwLDkwODEuMCw0NjIuMzQ3NzY3NDQwNDc2Nwo1ODEsOTA4Mi4wLDQyOS4wNzE3NjE2NzMyODA3CjU4Miw5MDgzLjAsNDM0LjcxNTQ2NjkyNDYwMjc3CjU4Myw5MDg0LjAsNDQ0LjQzODY1ODQzMjUzOTcKNTg0LDkwODUuMCw0NDcuMTAyNDE5MjY1ODcyNQo1ODUsOTA4Ni4wLDQ0MS43Mjg5NTcwNjM0OTE4CjU4Niw5MDg3LjAsNDQ3LjM1MzU5NDc4MTc0NjIKNTg3LDkwODguMCw0NzQuMzU3NjEzOTQxNzk4NTUKNTg4LDkwODkuMCw0NTIuNjk3Njc0NDkwNzQxMDYKNTg5LDkwOTAuMCw0NzMuNTU0NjMwNzE0Mjg1NAo1OTAsOTA5MS4wLDQ0MC4xNzM3NDk2MDMxNzQ1CjU5MSw5MDkyLjAsNDM2LjkwNjM5MDY1NDc2MTkKNTkyLDkwOTMuMCw0ODMuMDU3Mjc5ODQxMjY5Nwo1OTMsOTA5NC4wLDQ2My4wOTYxOTAyNzExNjM3CjU5NCw5MDk1LjAsNDc5LjE0NjgwMjI0MjA2MzEKNTk1LDkwOTYuMCw0NjAuMTUzNjU4MjUzOTY4NTYKNTk2LDkwOTcuMCw0NDUuODYzNjYwOTg1NDQ5NzcKNTk3LDkwOTguMCw0MzYuMDI5MjQ0Mjg1NzE0Mgo1OTgsOTA5OS4wLDQ3MS43NjI2NzM1MjUxMzIKNTk5LDkxMDAuMCw0NDguNTU1Mzk3NTc5MzY1MjYKNjAwLDkxMDEuMCw0MzkuMDY4MzI2MzU1ODE5ODYKNjAxLDkxMDIuMCw0NDEuNzU2MDA1OTk4Njc2ODcKNjAyLDkxMDMuMCw0MzQuOTU3OTg4OTU1MDI2ODUKNjAzLDkxMDQuMCw0NzEuNDcyNTg0ODE0ODE0OAo2MDQsOTEwNS4wLDQzOS44NTg2NzYzNjkwNDc4CjYwNSw5MTA2LjAsNDY2LjI3NzIxMDU1NTU1NTEKNjA2LDkxMDcuMCw0NDIuNTQwMDI3OTE2NjY2CjYwNyw5MTA4LjAsNDM4LjAzMDk3Mjc3MTE2NDE2CjYwOCw5MTA5LjAsNDM1LjQ4NDg5NzYyNTY2MDYKNjA5LDkxMTAuMCw0NzUuNjQzMTI4NDcyMjIxNzUKNjEwLDkxMTEuMCw0NzUuNjIwOTA2MzQyNTkyNQo2MTEsOTExMi4wLDQzNy4yNzkxNTIwMDM5Njg1CjYxMiw5MTEzLjAsNDU4LjgzNjYwODUyNTEzMjUKNjEzLDkxMTQuMCw0NzEuNjE4NTUyMzIxNDI4MzUKNjE0LDkxMTUuMCw0NTYuMTYyODcyNDA3NDA2MjcKNjE1LDkxMTYuMCw0MzAuNDM4MzY1MTc4NTcxMgo2MTYsOTExNy4wLDQzNi42MTY3ODEwNzgwNDI2Ngo2MTcsOTExOC4wLDQ1MC4wNzk4NDA3NDA3NDAzCjYxOCw5MTE5LjAsNDY3Ljg0OTM5MDc4MDQyMzQKNjE5LDkxMjAuMCw0NjMuMzQ1NTgyMTIzMDE1OAo2MjAsOTEyMS4wLDQ1My40MjQ4NzQxNzMyODAwNQo2MjEsOTEyMi4wLDQzNC42MTc2OTk2MDk3ODg0CjYyMiw5MTIzLjAsNDM0Ljc3NzE3MjE4OTE1MzMKNjIzLDkxMjQuMCw0NzYuMjkzMjc5OTQ3MDg5NzMKNjI0LDkxMjUuMCw0NjAuMDE3NjA4MTg3ODMwNgo2MjUsOTEyNi4wLDQ1OC40Njg5MzIwNTAyNjQ2CjYyNiw5MTI3LjAsNDY0LjQ0MjMxNjI1NjYxMzU0CjYyNyw5MTI4LjAsNDQxLjU1MzIxMTg1ODQ2NTUKNjI4LDkxMjkuMCw0NDIuOTIxNjEyMzM0NjU1NAo2MjksOTEzMC4wLDQzNS4wMzg4MzI1MTMyMjY4NQo2MzAsOTEzMS4wLDQ3NC44NzU2MjU2ODEyMTcwNgo2MzEsOTEzMi4wLDQzOS40OTEzODkyMTk1NzY5NAo2MzIsOTEzMy4wLDQ0NS45NDg4MDI1MDY2MTM2CjYzMyw5MTM0LjAsNDU3LjA1MzU3MTY1MzQzOTc1CjYzNCw5MTM1LjAsNDM0LjQ5NTc3ODgwOTUyNDE1CjYzNSw5MTM2LjAsNDc3LjkwMTkyNjgzMjAxMDUzCjYzNiw5MTM3LjAsNDQyLjI4MjU1MjI1NTI5MDcKNjM3LDkxMzguMCw0MzIuMDk5Nzg3MTA5Nzg4CjYzOCw5MTM5LjAsNDY1Ljk3OTc1MDA5MjU5Mjg0CjYzOSw5MTQwLjAsNDQ3LjcxMjAwNzQzMzg2MjUKNjQwLDkxNDEuMCw0NzcuOTk5ODg4NzEwMzE4MQo2NDEsOTE0Mi4wLDQ3MS4wMzE3MDY4MzIwMTA0Ngo2NDIsOTE0My4wLDQ4Ny4xMjIzODkzOTgxNDgyNAo2NDMsOTE0NC4wLDQ3My4yMDcyOTgyMzQxMjY2NQo2NDQsOTE0NS4wLDQzMS45MTY4MTIxNjI2OTg0CjY0NSw5MTQ2LjAsNDM5LjM4MzU4ODMzOTk0Njg3CjY0Niw5MTQ3LjAsNDM4LjIzNzYwMzAyOTEwMDg1CjY0Nyw5MTQ4LjAsNDM2LjY5ODEwOTMyNTM5NjMzCjY0OCw5MTQ5LjAsNDYxLjM3MjQwMTExNzcyNDg1CjY0OSw5MTUwLjAsNDgwLjQ3ODc3NDU3NjcyCjY1MCw5MTUxLjAsNDMzLjM4NDk1NzI3NTEzMjM2CjY1MSw5MTUyLjAsNDYzLjYzMzc0MjU1OTUyMzg1CjY1Miw5MTUzLjAsNDg5LjEyNjU3ODMzOTk0NzU3CjY1Myw5MTU0LjAsNDM0LjIyMzA4NTc2NzE5NTgKNjU0LDkxNTUuMCw0NDQuNTY4MDI0NTMwNDIzNgo2NTUsOTE1Ni4wLDQ0MS4wOTQyNDg2OTA0NzY3CjY1Niw5MTU3LjAsNDM2Ljk5MjEwMDAwMDAwMDIKNjU3LDkxNTguMCw0MzIuMDkwODAyODEwODQ2MjQKNjU4LDkxNTkuMCw0MzUuNDE5MDExOTExMzc1NDMKNjU5LDkxNjAuMCw0ODEuNzA3NzI3MTM2MjQzOQo2NjAsOTE2MS4wLDQ0Mi41NDE1NzIxMjk2MzAyNQo2NjEsOTE2Mi4wLDQ2Ny4xMTc2MjYxOTcwODk3NQo2NjIsOTE2My4wLDQ3Ni4yODMzNzk5MjA2MzU0Nwo2NjMsOTE2NC4wLDQ0NS4wNDM2NjY2NDAyMTE1CjY2NCw5MTY1LjAsNDc2LjEzMjQ4MTczOTQxNzcKNjY1LDkxNjYuMCw0NzkuNTQ5MTU2NzA2MzQ5CjY2Niw5MTY3LjAsNDQ2LjMwNzAyMTg3ODMwNjkKNjY3LDkxNjguMCw0MzMuMTM0MzA0MDg3MzAyMwo2NjgsOTE2OS4wLDQ0MC40MzE2MTI0MzM4NjI3Nwo2NjksOTE3MC4wLDQ0NC44MzUwNzg0NDU3NjcyCjY3MCw5MTcxLjAsNDUzLjg2MjQ0MDgyNjcxOTQKNjcxLDkxNzIuMCw0MzQuNjYyNDM2OTExMzc2MDYKNjcyLDkxNzMuMCw0NzIuNDAyOTM3OTgyODAzODUKNjczLDkxNzQuMCw0NDkuOTcyMjY1ODU5Nzg4Mgo2NzQsOTE3NS4wLDQ1OS44MjI0NDgxNzQ2MDM2CjY3NSw5MTc2LjAsNDY1LjQ4MTc5NjcxMjk2MjcKNjc2LDkxNzcuMCw0NDMuNjc4ODM3Nzk3NjE4NTQKNjc3LDkxNzguMCw0NTkuODY2NzkzOTAyMTE2NTcKNjc4LDkxNzkuMCw0NTkuMTY4NTAwMTY1MzQ0NzcKNjc5LDkxODAuMCw0NTQuMzcwMTYxNTI3Nzc3ODQKNjgwLDkxODEuMCw0MzYuODQ0MDgxNDIxOTU3NDcKNjgxLDkxODIuMCw0NjAuODM5NjMzMTk0NDQ0NAo2ODIsOTE4My4wLDQzMy4xNzY0Njk3OTQ5NzM2CjY4Myw5MTg0LjAsNDQ3LjkyNzU1MjY5ODQxMwo2ODQsOTE4NS4wLDQ3Ni42MjQyNzkyNzkxMDA2CjY4NSw5MTg2LjAsNDMyLjk1NTE5OTQwNDc2MTgKNjg2LDkxODcuMCw0NDQuMjgyNjk2OTkwNzQwMgo2ODcsOTE4OC4wLDQ0MS4xODY4NjA3NjA1ODIKNjg4LDkxODkuMCw0ODEuNDk3MjU1NTc1Mzk2Ngo2ODksOTE5MC4wLDQ3MC4xNjU1MjUwNDYyOTYyNAo2OTAsOTE5MS4wLDQzNS4zNzk5NDAwMjY0NTUxMwo2OTEsOTE5Mi4wLDQ3OC4wNjAzNTQyMjYxOTAxNgo2OTIsOTE5My4wLDQ2OC4zMDE4NzMyOTM2NTAyNgo2OTMsOTE5NC4wLDQzMy4zMzE0MTM5NzQ4Njc4CjY5NCw5MTk1LjAsNDY2LjE5MTI2MzQyNTkyNTIKNjk1LDkxOTYuMCw0NDQuMDEyODczNTE4NTE4Mwo2OTYsOTE5Ny4wLDQ2NC41ODMyNDk5ODY3NzE2NQo2OTcsOTE5OC4wLDQ4NC4yNzgyNDA3NzM4MDk0CjY5OCw5MTk5LjAsNDc1LjU1ODk5MzczMDE1ODgKNjk5LDkyMDAuMCw0MzMuMTQzNDk0OTgwMTU4Mgo3MDAsOTIwMS4wLDQzMy4wMDM5NTcyNDg2NzY2Nwo3MDEsOTIwMi4wLDQ3NS4yMjExODA3NDczNTQxNAo3MDIsOTIwMy4wLDQ0OS4xMjY1Mjc2Mzg4ODg4CjcwMyw5MjA0LjAsNDYyLjQ1Njg4MDQ0MzEyMTIKNzA0LDkyMDUuMCw0NDIuMTUwMjM1MzkwMjExNTUKNzA1LDkyMDYuMCw0NDkuNjM1MjA2NTU0MjMzNTUKNzA2LDkyMDcuMCw0NDkuMjY4MDUyMzQxMjcwMQo3MDcsOTIwOC4wLDQ2MC4wNDkzMzUwMzMwNjgxCjcwOCw5MjA5LjAsNDcxLjY1NjQzODAxNTg3MzA1CjcwOSw5MjEwLjAsNDM2LjI3MjE3OTEzMzU5Nzk0CjcxMCw5MjExLjAsNDMyLjYyMzA5MDE1ODczMDA3CjcxMSw5MjEyLjAsNDY5Ljg4NjQzNDc4MTc0NTkKNzEyLDkyMTMuMCw0NTAuNzU4NTM4MjAxMDU4CjcxMyw5MjE0LjAsNDYzLjE1NTU5OTA0NzYxOTMKNzE0LDkyMTUuMCw0NDIuNjg0NDYxOTMxMjE2NTYKNzE1LDkyMTYuMCw0MzQuMTQzODIwMjg0MzkxOQo3MTYsOTIxNy4wLDQ0Ny41MDU5ODc2OTg0MTI0CjcxNyw5MjE4LjAsNDQwLjgyOTYxNDE2MDA1MzA0CjcxOCw5MjE5LjAsNDQyLjQyNzY3MjA2MzQ5MjEKNzE5LDkyMjAuMCw0MzYuNTI1NTY5NTM3MDM3NTQKNzIwLDkyMjEuMCw0NzEuMzkzMTI0Njc1OTI1NjYKNzIxLDkyMjIuMCw0NTQuMTQ1NTI0MzcxNjkzNgo3MjIsOTIyMy4wLDQ0Mi4wNjIzNjM2NTc0MDY5Mwo3MjMsOTIyNC4wLDQzMy43Nzc0MjQwMzQzOTEyMwo3MjQsOTIyNS4wLDQ2My4yNjA2Njk5NDcwOTA2CjcyNSw5MjI2LjAsNDcxLjkwNjMwMjgzNzMwMTYKNzI2LDkyMjcuMCw0NjguOTU5MzQyOTQzMTIxODQKNzI3LDkyMjguMCw0NTEuMTE3MTMzODgyMjc1MjUKNzI4LDkyMjkuMCw0NDAuMDc5NDQ1MDc5MzY1Mwo3MjksOTIzMC4wLDQ2OC44Mjg1NDQ1ODMzMzM2CjczMCw5MjMxLjAsNDM0LjkzMzk5MTY4NjUwNzU3CjczMSw5MjMyLjAsNDgzLjQzMzAxNDY1NjA4NDcKNzMyLDkyMzMuMCw0NTAuODQ1MzM1ODc5NjI5Mgo3MzMsOTIzNC4wLDQ0NC41ODEzNDIyODgzNTk5CjczNCw5MjM1LjAsNDc0Ljc0MjczODAyOTEwMDMKNzM1LDkyMzYuMCw0NDkuOTQzMjUyNzUxMzIyODYKNzM2LDkyMzcuMCw0NzguMTIyNzUwNDAzNDM5NAo3MzcsOTIzOC4wLDQ3Ny43MTYzMzAwMDY2MTM5CjczOCw5MjM5LjAsNDQ2LjI1MTQ4OTkyNzI0ODMKNzM5LDkyNDAuMCw0MzYuMzkyOTQ0NTE3MTk1Nwo3NDAsOTI0MS4wLDQ4My4wNjkzNzgwNDg5NDE3Cjc0MSw5MjQyLjAsNDc5LjA1NDQxMDEyNTY2MTgzCjc0Miw5MjQzLjAsNDc2LjUzNjE4NDM5MTUzMzkKNzQzLDkyNDQuMCw0MzYuNTQ0MDE3MTY5MzEyMQo3NDQsOTI0NS4wLDQ2MS41ODMyMjM0NzIyMjIxCjc0NSw5MjQ2LjAsNDc2LjA5OTA0NjcxOTU3NjUKNzQ2LDkyNDcuMCw0NjMuMzExNTM1MjExNjQwMwo3NDcsOTI0OC4wLDQ0Ny4yNDY0Nzk5NzM1NDUyNgo3NDgsOTI0OS4wLDQ2My43NjI5NDgwODg2MjQyCjc0OSw5MjUwLjAsNDQyLjE5NTk0Mjg1MDUyODcKNzUwLDkyNTEuMCw0NjcuNzA1OTcwMjQ0NzA4NTcKNzUxLDkyNTIuMCw0MjkuNDYwODkxOTE3OTkwMQo3NTIsOTI1My4wLDQ0OC41MjA1NTI5MTY2NjcKNzUzLDkyNTQuMCw0NTEuMDg3NDUxMDUxNTg2NDcKNzU0LDkyNTUuMCw0NDQuMDg4NTQzMTY3OTg5MDMKNzU1LDkyNTYuMCw0ODQuNjM2NzM3Mjk0OTcyOQo3NTYsOTI1Ny4wLDQzNS40NDYxMDU4MDAyNjQ2Ngo3NTcsOTI1OC4wLDQzNy4zODE0Nzk4ODc1NjcKNzU4LDkyNTkuMCw0NzIuMzI4Nzc4ODE2MTM4Mgo3NTksOTI2MC4wLDQ2NS4wNDAzMzcyMjg4MzYxNwo3NjAsOTI2MS4wLDQzNi45NDUwNDkwMTQ1NTA1Cjc2MSw5MjYyLjAsNDQ1LjIxNTY3NjIzNjc3MjI1Cjc2Miw5MjYzLjAsNDY0LjE0MTIxNjc3MjQ4NzIKNzYzLDkyNjQuMCw0NDMuMzc5OTU2OTc3NTEzMgo3NjQsOTI2NS4wLDQ1NC4zNTc3ODIwMzcwMzY3Nwo3NjUsOTI2Ni4wLDQ2OS40ODM2NjkwMzQzOTIxCjc2Niw5MjY3LjAsNDQzLjU0MDU0NzMyODA0MjI0Cjc2Nyw5MjY4LjAsNDU1LjM4MzUzNzA2MzQ5MTY0Cjc2OCw5MjY5LjAsNDM5LjM3Nzg5Mjg1MDUyOTYzCjc2OSw5MjcwLjAsNDMzLjA3MTk0MTU1NDIzMjgKNzcwLDkyNzEuMCw0NDYuMDY0NTE2NjUzNDM4Ngo3NzEsOTI3Mi4wLDQzNS4zNDM5MjYyMTY5MzE2Cjc3Miw5MjczLjAsNDY1LjYwMTU3OTEwNzE0Mjg3Cjc3Myw5Mjc0LjAsNDUxLjcxODEwNjc1Mzg0ODIKNzc0LDkyNzUuMCw0NTcuNDQyNDQ0OTYwMzE3Cjc3NSw5Mjc2LjAsNDczLjA2MDIwMzI0MDc0MDUKNzc2LDkyNzcuMCw0NDIuODExMDMwMDc5MzY1Mgo3NzcsOTI3OC4wLDQzMC45NTU1MzM1NzgwNDIxNQo3NzgsOTI3OS4wLDQ2OC44OTQ0MTk5ODY3NzMKNzc5LDkyODAuMCw0NjMuODQ0ODU0NTc2NzE5MDYKNzgwLDkyODEuMCw0ODAuMTY0MDg0MjU5MjU4OQo3ODEsOTI4Mi4wLDQ3My42OTQzMjE4NTg0NjU2Cjc4Miw5MjgzLjAsNDY0LjA3OTk2Njk0NDQ0NDU1Cjc4Myw5Mjg0LjAsNDcxLjM1MTcyOTM3MTY5MzMKNzg0LDkyODUuMCw0NDQuNjc5NzIxNzQ2MDMxNAo3ODUsOTI4Ni4wLDQ4MS45MzM4MTEyODMwNjkyCjc4Niw5Mjg3LjAsNDQyLjUwMTYxNTc2MDU4MjIKNzg3LDkyODguMCw0NzAuMjA5OTc2Mjc2NDU1MDUKNzg4LDkyODkuMCw0MzYuNDA0MDMwNzYwNTgxMzUKNzg5LDkyOTAuMCw0NzEuNjQ5MTY0MzE4NzgyNzcKNzkwLDkyOTEuMCw0NDMuMzc2NzA5NjIzMDE1Nwo3OTEsOTI5Mi4wLDQ3OS4yODgwOTM1MzE3NDYyCjc5Miw5MjkzLjAsNDcxLjk4NTcxNDcwMjM4MDg1Cjc5Myw5Mjk0LjAsNDM1LjI1MDkxOTI5MjMyODI2Cjc5NCw5Mjk1LjAsNDY1LjA4OTAzODk1NTAyNjYKNzk1LDkyOTYuMCw0NjAuNTg0NzMzNjkwNDc1Nwo3OTYsOTI5Ny4wLDQ0MC4xMDQwMjcxNDI4NTY4Ngo3OTcsOTI5OC4wLDQ0Mi4xOTE3MzA0ODI4MDMxNwo3OTgsOTI5OS4wLDQ4Mi40MjE5OTgyMDc2NzE2Ngo3OTksOTMwMC4wLDQ3Ny42MDY3OTcwMjM4MDkxCjgwMCw5MzAxLjAsNDQ1LjM2ODY4MDY2Nzk4ODk0CjgwMSw5MzAyLjAsNDgyLjY0MjQ1NjE5MDQ3NjEKODAyLDkzMDMuMCw0NzEuNjQyMzM2MTgzODYyMTQKODAzLDkzMDQuMCw0NDQuNTA5MTQ1MjA1MDI2NjQKODA0LDkzMDUuMCw0NDguNzk5Mjg0NDkwNzQKODA1LDkzMDYuMCw0MzguMzk2OTgzNzgzMDY4NTUKODA2LDkzMDcuMCw0NTMuODQzNTUyOTI5ODk0MjYKODA3LDkzMDguMCw0NDYuMzQ5Nzg0NDExMzc1MzcKODA4LDkzMDkuMCw0ODQuNTkzNDg4OTg4MDk0OQo4MDksOTMxMC4wLDQ2Mi4yMDc3OTk1NzAxMDU4Ngo4MTAsOTMxMS4wLDQ4MS43OTA3NDc4NzAzNzA0CjgxMSw5MzEyLjAsNDYzLjkxNDUzNDIzMjgwMzkzCjgxMiw5MzEzLjAsNDMyLjY4MDYwNDk2MDMxNzgKODEzLDkzMTQuMCw0MzQuNzMzNTk4MTIxNjkyOQo4MTQsOTMxNS4wLDQ4Ny4yNDg3ODcwNTY4Nzc4CjgxNSw5MzE2LjAsNDMxLjYzOTExMDIzMTQ4MTY1CjgxNiw5MzE3LjAsNDQzLjM5MTQ3NzUxOTg0MDkKODE3LDkzMTguMCw0NDIuNTM1OTg1MTE5MDQ4Mgo4MTgsOTMxOS4wLDQ0Ni42NjEyNjE4OTgxNDgxCjgxOSw5MzIwLjAsNDY1Ljk1NDIzMDU3NTM5NjYKODIwLDkzMjEuMCw0MzQuNTYwNDMzMjkzNjUxMgo4MjEsOTMyMi4wLDQ3Ni4zNjM2NzIxOTU3Njc0CjgyMiw5MzIzLjAsNDg0LjYzNTIyNjc3MjQ4NjM2CjgyMyw5MzI0LjAsNDc2LjQ5MDc3MjAzNzAzNzEKODI0LDkzMjUuMCw0NDMuNjg4NTg1OTUyMzgwNTUKODI1LDkzMjYuMCw0NTQuMjMwMjM2MDkxMjY5OTQKODI2LDkzMjcuMCw0NTEuMjM5NzMyMjYxOTA1MjYKODI3LDkzMjguMCw0MzcuODg4MzYzMjY3MTk1OQo4MjgsOTMyOS4wLDQ0Ni45MTkwNDc2ODUxODQ3NQo4MjksOTMzMC4wLDQzNC45NzEwNjYyNDMzODU5CjgzMCw5MzMxLjAsNDM3LjQxMjExMzU3ODA0MjQ3CjgzMSw5MzMyLjAsNDM4LjIxMzY1NzEyMzAxNDg1CjgzMiw5MzMzLjAsNDc2Ljc5NTg2Nzc1NzkzNjQzCjgzMyw5MzM0LjAsNDc0LjIyNjExOTM1MTg1MjQKODM0LDkzMzUuMCw0ODMuMjI2NjU0MzQ1MjM3OTMKODM1LDkzMzYuMCw0NjYuODMzNzY1NDk2MDMxNwo4MzYsOTMzNy4wLDQ3NS42MTIxMzA1ODg2MjQyNwo4MzcsOTMzOC4wLDQ1OS42NTc5MDc1MzMwNjg4CjgzOCw5MzM5LjAsNDYyLjgzNzk4ODkwODczMDA0CjgzOSw5MzQwLjAsNDQ1LjE2ODkwNDYyOTYyOTMKODQwLDkzNDEuMCw0NzYuMzAxMDEyMTM2MjQzNQo4NDEsOTM0Mi4wLDQ2NS41Nzc2MzY4OTgxNDgxNwo4NDIsOTM0My4wLDQ3OS4zNTcxMDI4MzA2ODcyNwo4NDMsOTM0NC4wLDQ2Ny4wMjEyOTg2NzA2MzUxCjg0NCw5MzQ1LjAsNDgyLjQ1NDAyOTYzNjI0MzY2Cjg0NSw5MzQ2LjAsNDU1LjU3MzI5MjI0ODY3NzI2Cjg0Niw5MzQ3LjAsNDcyLjgyNTAyMjIzNTQ0OTg2Cjg0Nyw5MzQ4LjAsNDI4LjI3MDMzMTY0MDIxMTYKODQ4LDkzNDkuMCw0ODYuMTc1NDMzMjI3NTEzOTYKODQ5LDkzNTAuMCw0NzAuNDA5MjE3NTk5MjA1OAo4NTAsOTM1MS4wLDQ0MC4wNjIwMzM5Mjg1NzE4Cjg1MSw5MzUyLjAsNDQwLjU3NjE5OTg4MDk1Mgo4NTIsOTM1My4wLDQzNi42NDIwNTE4MDU1NTU3Cjg1Myw5MzU0LjAsNDY0LjE0MzUzNzY3ODU3MTMKODU0LDkzNTUuMCw0NDguNjA4MDAzMTQ4MTQ4MDQKODU1LDkzNTYuMCw0NDMuMDI1MDQ1MzUwNTI5NDcKODU2LDkzNTcuMCw0ODEuMTI0ODM4NjY0MDIxNwo4NTcsOTM1OC4wLDQ1NC4xMTczNzYzMDk1MjM1NAo4NTgsOTM1OS4wLDQ1MC4wMDQ0NjYwMjUxMzE3Cjg1OSw5MzYwLjAsNDM1LjA4NTMxODQ3MjIyMjQKODYwLDkzNjEuMCw0NDcuNTM3MTkwMDY2MTM2Nwo4NjEsOTM2Mi4wLDQ1OS44NzQ2OTc3MzgwOTU4Cjg2Miw5MzYzLjAsNDMzLjgzNDY5MDg4NjI0MzYKODYzLDkzNjQuMCw0NDQuNjgwMzAyOTc2MTg5OQo4NjQsOTM2NS4wLDQ0NS43MjY5MTEwMzgzNTk1Ngo4NjUsOTM2Ni4wLDQ4NC43NzM0MzkzNTg0NjYxMwo4NjYsOTM2Ny4wLDQzNy42NDg4OTEzODg4ODg2Nwo4NjcsOTM2OC4wLDQ0MC43MjQwMjY1MzQzOTAzNgo4NjgsOTM2OS4wLDQ1Ny43MDk0NzE3NzI0ODY1NQo4NjksOTM3MC4wLDQ0MS4xOTE1NDgwNDg5NDE4NQo4NzAsOTM3MS4wLDQ4My4wMTU4ODMwODIwMDk5Ngo4NzEsOTM3Mi4wLDQ2Ni4yNjM5NjAwNTk1MjQyCjg3Miw5MzczLjAsNDMxLjAyNzg0NzMzNDY1Ngo4NzMsOTM3NC4wLDQzMy40MTc5MDgyNjA1ODIyCjg3NCw5Mzc1LjAsNDc0LjM0MzgzMjAwMzk2ODYKODc1LDkzNzYuMCw0NDAuMzA1MDM0OTY2OTMwODYKODc2LDkzNzcuMCw0NzguMTUyMjI3MTY5MzEyMjUKODc3LDkzNzguMCw0NzMuNDczODA3NjQ1NTAyODYKODc4LDkzNzkuMCw0NDcuMTQ2NDkzMTc0NjAzMwo4NzksOTM4MC4wLDQ3Ni40ODI4NTM4NzU2NjExCjg4MCw5MzgxLjAsNDY0LjkyMzA1NzE4OTE1Mjg3Cjg4MSw5MzgyLjAsNDQ1LjMyODAxMjY0NTUwMjI3Cjg4Miw5MzgzLjAsNDc2LjYwODQ5MDY2MTM3NTYKODgzLDkzODQuMCw0MzkuMjA1OTgzMzA2ODc4Cjg4NCw5Mzg1LjAsNDYyLjQyOTc5NzU3Mjc1MTEKODg1LDkzODYuMCw0NDUuNDg0MDU2MjQzMzg2Mgo4ODYsOTM4Ny4wLDQ0MC42MTExODg5Mjg1NzE0Cjg4Nyw5Mzg4LjAsNDQzLjczOTgyNjg0NTIzODI3Cjg4OCw5Mzg5LjAsNDQxLjM5NjEyOTg0MTI3MDM1Cjg4OSw5MzkwLjAsNDU2LjkyNjc1NjA4NDY1NjM1Cjg5MCw5MzkxLjAsNDMxLjY2MzU3NTExMjQzNDEKODkxLDkzOTIuMCw0NTIuMDMzODkxNTY3NDYwMwo4OTIsOTM5My4wLDQ0Mi45MDMwNTg5MTUzNDQzCjg5Myw5Mzk0LjAsNDc3LjU1ODg1ODA0ODk0MjA2Cjg5NCw5Mzk1LjAsNDQ1LjYwNDcxMDUzNTcxMzkzCjg5NSw5Mzk2LjAsNDcxLjc0NjcwNTA5OTIwNTcKODk2LDkzOTcuMCw0MzkuNDc4NTM0OTAwNzkzMgo4OTcsOTM5OC4wLDQ2Ny43OTM5NzA5MTI2OTg0Cjg5OCw5Mzk5LjAsNDYzLjA1NTM4NjMwMjkwOTM3Cjg5OSw5NDAwLjAsNDQxLjkzODM0NzQzMzg2MjQKOTAwLDk0MDEuMCw0NjguMTk4NTAxNTYwODQ3Mwo5MDEsOTQwMi4wLDQzOC4wMDk2MjI5NzYxOTA1CjkwMiw5NDAzLjAsNDQwLjMyOTA3MzQyNTkyNTU3CjkwMyw5NDA0LjAsNDQ4LjAxNjI3NzgxNzQ1OTcKOTA0LDk0MDUuMCw0NjguODczNDkwMzEwODQ2NTMKOTA1LDk0MDYuMCw0OTMuMTEzNjE0MzMyMDExNgo5MDYsOTQwNy4wLDQ3OS4zMDc1ODg5MDg3Mjk3Nwo5MDcsOTQwOC4wLDQ4My4yMDgzMTM1MzgzNTk3CjkwOCw5NDA5LjAsNDUzLjA2MzIyMDI5NzYxOTEKOTA5LDk0MTAuMCw0NDkuNDU4MzcxNzU5MjU5Mgo5MTAsOTQxMS4wLDQ4Mi45MTIxODAxMjU2NjE5CjkxMSw5NDEyLjAsNDc1LjIwMjc4MjI2ODUxODU1CjkxMiw5NDEzLjAsNDM0LjEwMDUyMTYyMDM3MDMKOTEzLDk0MTQuMCw0NjguNDQwMTUxNzA2MzQ4Ngo5MTQsOTQxNS4wLDQ1MS43Mzg4NDIyMzU0NDk2CjkxNSw5NDE2LjAsNDM5LjgwNzMzMDA0NjI5NjQKOTE2LDk0MTcuMCw0NTYuOTM3NDAwNDYyOTYyOTYKOTE3LDk0MTguMCw0NTguODEwNTgyMzE0ODE1MjQKOTE4LDk0MTkuMCw0NjYuMTMzNTE4NDA2MDg1MQo5MTksOTQyMC4wLDQyOC40NzUzOTQzNTg0NjU0CjkyMCw5NDIxLjAsNDc0Ljc2OTM1NDA5MzkxNTEKOTIxLDk0MjIuMCw0MzguMzA0MzgwMjMxNDgxMDUKOTIyLDk0MjMuMCw0NzIuNzk1NDQwNDc2MTkwMwo5MjMsOTQyNC4wLDQ0MC42MTA1NTAxMjU2NjEyMwo5MjQsOTQyNS4wLDQzNi4wMTYzOTAwNjYxMzc2Ngo5MjUsOTQyNi4wLDQ2My40ODQxMDI0MDA3OTMyCjkyNiw5NDI3LjAsNDU4Ljk2MjQ5NTc0MDc0MDg1CjkyNyw5NDI4LjAsNDY2Ljg4MjU0MDMzNzMwMjUKOTI4LDk0MjkuMCw0MzUuNzMxMTg5Mjc5MTAwOTMKOTI5LDk0MzAuMCw0NTkuMzk1NTYzMDY4NzgxNwo5MzAsOTQzMS4wLDQ4My41MTUwNzU5OTkyNzg4NQo5MzEsOTQzMi4wLDQ1NC44NTE0ODkzNzgzMDczCjkzMiw5NDMzLjAsNDQ2LjU5NzE1ODYyNDMzODQKOTMzLDk0MzQuMCw0MzUuNTQwMDM2NzkyMzI3ODQKOTM0LDk0MzUuMCw0ODAuNjM0ODExODI1Mzk2Mwo5MzUsOTQzNi4wLDQ1OS44NTAxNTI4NzAzNzA5NQo5MzYsOTQzNy4wLDQ4NS4xNTAzOTM4NzU2NjE0NQo5MzcsOTQzOC4wLDQzOC42MTIwMTk3Njg1MTg1CjkzOCw5NDM5LjAsNDc5LjM3MzExNzcwNTAyNjA2CjkzOSw5NDQwLjAsNDQxLjkzMTY4MDY0ODE0ODM2Cjk0MCw5NDQxLjAsNDMyLjUyNDQ2NzM0Nzg4MzkKOTQxLDk0NDIuMCw0NjMuMjE5NzM2NTM0MzkxMwo5NDIsOTQ0My4wLDQzNi41MDI1MTQ1NTAyNjQ4Cjk0Myw5NDQ0LjAsNDY2LjQ0Nzc4ODkxNTM0MzcKOTQ0LDk0NDUuMCw0MzcuNzAyNzUxNTU0MjMzCjk0NSw5NDQ2LjAsNDQ3LjUyMDc1OTk4MDE1ODQKOTQ2LDk0NDcuMCw0NjUuNTE5NjU4MTQ4MTQ4Mwo5NDcsOTQ0OC4wLDQzMC4wODA4MTI4ODM1OTgzNgo5NDgsOTQ0OS4wLDQzMi4wMTEzMzA4MjY3MTk1Cjk0OSw5NDUwLjAsNDQ4LjIyMzk1NDA4NzMwMjE2Cjk1MCw5NDUxLjAsNDM1LjEyMTI5NzI2MTkwNDE1Cjk1MSw5NDUyLjAsNDY3LjIzMzk5OTAyMTE2MzcKOTUyLDk0NTMuMCw0NDYuODc5Njg5NDk3MzU0NAo5NTMsOTQ1NC4wLDQ2Mi4wNTU1NTEzNzU2NjEzNwo5NTQsOTQ1NS4wLDQ0OS43MDI5NjMxODEyMTY3Cjk1NSw5NDU2LjAsNDMyLjk2Mzc3NDM1MTg1MjI0Cjk1Niw5NDU3LjAsNDQ4LjE3NzE1NDE3MzI4MDIKOTU3LDk0NTguMCw0NDQuNTYzNjc1Njg3ODMwOTQKOTU4LDk0NTkuMCw0NzEuODY1NDYwNzM0MTI2NzcKOTU5LDk0NjAuMCw0NzguNTcyOTQ1MTQ1NTAyNTYKOTYwLDk0NjEuMCw0MzguMjM0NDc3NTUyOTEwMQo5NjEsOTQ2Mi4wLDQ1NC44MDE0Mzk5ODY3NzI3Cjk2Miw5NDYzLjAsNDg0LjQzOTkzMTMwMjkwOTYKOTYzLDk0NjQuMCw0NzEuMDE4NTkzMDE1ODcyNwo5NjQsOTQ2NS4wLDQ1My43NzM1ODI2Njk1NTIzCjk2NSw5NDY2LjAsNDQxLjkzMTg0OTE1MzQzODUKOTY2LDk0NjcuMCw0NDAuMzA2NTk5MTMzNTk3NDQKOTY3LDk0NjguMCw0MzUuMDcwMTQxMTQ0MTc5NAo5NjgsOTQ2OS4wLDQ0MC4zMjcxNTc0NzM1NDUyNAo5NjksOTQ3MC4wLDQ0NC44Nzc4OTQ2MDk3ODgwMwo5NzAsOTQ3MS4wLDQ2Mi4wMjUxODA3NjA1ODEzNQo5NzEsOTQ3Mi4wLDQzOS4wNjE5MDk1MDM5Njg1Cjk3Miw5NDczLjAsNDcwLjkzNTc0MTcxMjk2MjM0Cjk3Myw5NDc0LjAsNDM0LjI2Mjg1MzY1MDc5MzgKOTc0LDk0NzUuMCw0MzcuMzc0NTY1OTY1NjA4MjcKOTc1LDk0NzYuMCw0NjUuMDk2NDQ0NTUwMjY1MDYKOTc2LDk0NzcuMCw0MzguODI1MDY4MDU1NTU1NzMKOTc3LDk0NzguMCw0MzMuMTk1NDI2NDYxNjQwMjQKOTc4LDk0NzkuMCw0NDcuNTU3MjY3Njk4NDEyMgo5NzksOTQ4MC4wLDQ1MS40Nzc4NjQ2MDMxNzQ4NQo5ODAsOTQ4MS4wLDQ2NC4xODM2NjIzODc1NjY0Cjk4MSw5NDgyLjAsNDY4LjE5ODAzNDQzNzgzMDYKOTgyLDk0ODMuMCw0NTkuMTc4MzMxODM4NjI1Cjk4Myw5NDg0LjAsNDY0LjAxNzM0OTU4OTk0NjkKOTg0LDk0ODUuMCw0NTUuODc4Mzk5NjgyNTM5OTYKOTg1LDk0ODYuMCw0NDAuMTk0NjEzMTgxMjE3MTYKOTg2LDk0ODcuMCw0NjguODQ4OTczNTkxMjY5Nwo5ODcsOTQ4OC4wLDQ4MC43ODUzNzk0NDQ0NDQ3NAo5ODgsOTQ4OS4wLDQ0My4zOTg5MDIxNDI4NTYKOTg5LDk0OTAuMCw0NDYuNDkzMjMyNjk4NDExNjUKOTkwLDk0OTEuMCw0ODMuNjQwODA4NDkyMDY0MjUKOTkxLDk0OTIuMCw0MzguMTA3MTA5NTEwNTgyMQo5OTIsOTQ5My4wLDQ0MS4wMjY0NDU3NjA1ODE4Cjk5Myw5NDk0LjAsNDMyLjc3MzM1OTUwMzk2ODk1Cjk5NCw5NDk1LjAsNDcyLjM0NjQxNTUzNTcxNDcKOTk1LDk0OTYuMCw0NDQuMDgwODk0MDI3Nzc4Cjk5Niw5NDk3LjAsNDg0LjA1MTM3NjY2NjY2NjQKOTk3LDk0OTguMCw0MzMuNTczNzg1ODY2NDAyMjYKOTk4LDk0OTkuMCw0NDIuNTMxMjcyOTIzMjgxCjk5OSw5NTAwLjAsNDQ1LjA0NjEyNDAyNzc3NzUKMTAwMCw5NTAxLjAsNDY3LjgzNTg1MDY4NzgzMDY2CjEwMDEsOTUwMi4wLDQ0Ny45NjM2OTIxNTYwODQ4NQoxMDAyLDk1MDMuMCw0NjYuMDc0NDMyMjg4MzU5NQoxMDAzLDk1MDQuMCw0MzYuMTc4NzY5MTIwMzY5NwoxMDA0LDk1MDUuMCw0MzUuODk0NzMzNDg1NDUwNAoxMDA1LDk1MDYuMCw0NDkuMjA3ODUyODM3MzAxMzUKMTAwNiw5NTA3LjAsNDc0LjYzMDU3MzkwMjExNTc3CjEwMDcsOTUwOC4wLDQ0MS43MDU2MjA1MDI2NDQ5MwoxMDA4LDk1MDkuMCw0NDAuNjI0NTUxMDUxNTg2OTMKMTAwOSw5NTEwLjAsNDQxLjQzMjMwOTMyNTM5NjgKMTAxMCw5NTExLjAsNDc1LjYxODQwMDE4NTE4NQoxMDExLDk1MTIuMCw0NjYuODk3NTk3NDQ3MDg5MgoxMDEyLDk1MTMuMCw0NzIuNDYwNDA5NDY0Mjg1OQoxMDEzLDk1MTQuMCw0NDEuNjI1MTkxNTYwODQ2MzYKMTAxNCw5NTE1LjAsNDM2LjE3ODY0NTU1NTU1NTEKMTAxNSw5NTE2LjAsNDgwLjA3NDQyOTUxMDU4MjcKMTAxNiw5NTE3LjAsNDU2Ljc4MTE5MzY3NzI0ODQKMTAxNyw5NTE4LjAsNDM0LjI0MjczODc2OTg0MTUKMTAxOCw5NTE5LjAsNDgzLjY3ODIwMDY0MTUzNDE1CjEwMTksOTUyMC4wLDQ4MC43NzA1OTUyMTgyNTQKMTAyMCw5NTIxLjAsNDM4LjE0MTM2MzQ1MjM4MTI2CjEwMjEsOTUyMi4wLDQ2OS43NDgzMjg0NTIzODAzNQoxMDIyLDk1MjMuMCw0NzcuODA4OTI0MzA1NTU2CjEwMjMsOTUyNC4wLDQ3Mi42OTAxODExMjQzMzg1CjEwMjQsOTUyNS4wLDQ2NC44NjgxNzM5MTUzNDQKMTAyNSw5NTI2LjAsNDQwLjYxMjQzNDU4MzMzMzIKMTAyNiw5NTI3LjAsNDM5LjUxNzY4MTI2MzIyNzMKMTAyNyw5NTI4LjAsNDc4LjU4NzMzMjA3MDEwNTEKMTAyOCw5NTI5LjAsNDMwLjgwMTI1NTkxMjY5ODgKMTAyOSw5NTMwLjAsNDM1LjY4OTIxODE4MTIxNzEKMTAzMCw5NTMxLjAsNDM3LjU5OTcwMzI0MDc0MDg0CjEwMzEsOTUzMi4wLDQ4NC4zMzk0Nzg0NzIyMjIzCjEwMzIsOTUzMy4wLDQ3My44NDE0NTk2MjMwMTYKMTAzMyw5NTM0LjAsNDc1LjkwOTMwNjQzNTE4NDkzCjEwMzQsOTUzNS4wLDQ2My4wNTg1NzEwMDUyOTE2CjEwMzUsOTUzNi4wLDQzMi45Nzg0ODIyMjIyMjIyCjEwMzYsOTUzNy4wLDQ1NC4yNTg4MjUwNTI5MTAxNAoxMDM3LDk1MzguMCw0NDguMzQ2NzYzNTExOTA0NjcKMTAzOCw5NTM5LjAsNDMxLjIwOTg1MzQzOTE1MzMKMTAzOSw5NTQwLjAsNDMzLjIwNjE2ODI1Mzk2ODQKMTA0MCw5NTQxLjAsNDQ2LjQwMTc0NzkxMDA1MwoxMDQxLDk1NDIuMCw0NjYuMTcyNzUxNTAxMzIyOAoxMDQyLDk1NDMuMCw0ODQuMjcwMDIyODkwMjEyMTUKMTA0Myw5NTQ0LjAsNDY0LjI4MzM1Mjc0NDcwOTcKMTA0NCw5NTQ1LjAsNDgzLjc1OTk3MTk3NzUxMzAzCjEwNDUsOTU0Ni4wLDQ2MS4yODc2NzYzMDI5MTA5NAoxMDQ2LDk1NDcuMCw0NjkuMTkwNzA0ODAxNTg3MgoxMDQ3LDk1NDguMCw0NDEuMTk1Njk3MDM3MDM3MwoxMDQ4LDk1NDkuMCw0NjQuMTA1NzY3NDIwNjM1MQoxMDQ5LDk1NTAuMCw0MzUuNTM1NDE4NzgzMDY4MwoxMDUwLDk1NTEuMCw0NjcuMjk4MjgxMjAzNzAzMjUKMTA1MSw5NTUyLjAsNDI4Ljg2ODI4MDIxODI1MzcKMTA1Miw5NTUzLjAsNDYxLjgwNjEwMjc5MTAwNTIzCjEwNTMsOTU1NC4wLDQ1OS4zMTI1NTM1NzgwNDIxCjEwNTQsOTU1NS4wLDQ0MC45MTUwNjA5ODU0NDk3CjEwNTUsOTU1Ni4wLDQ4NC4wMzc1MzE2MDcxNDI4CjEwNTYsOTU1Ny4wLDQzNS45NzUxNDc0MjA2MzQ4NwoxMDU3LDk1NTguMCw0NzQuNTM2MjA1MjM4MDk0NzQKMTA1OCw5NTU5LjAsNDM4LjYxODM2ODE5NDQ0NDMKMTA1OSw5NTYwLjAsNDY0Ljk2MjA2MDE1MjExNjc1CjEwNjAsOTU2MS4wLDQ4OS4wNjkzMTg2MzA5NTE4NAoxMDYxLDk1NjIuMCw0MzEuNjM5MDg1NTc1Mzk3CjEwNjIsOTU2My4wLDQ0MC4xNjI4ODA3NjcxOTU1MwoxMDYzLDk1NjQuMCw0MzIuMzU2MTgwNDEwMDUzOQoxMDY0LDk1NjUuMCw0MzYuMjQ3MTExNDQ4NDEyNTcKMTA2NSw5NTY2LjAsNDU2LjA4MDY3NDI0NjAzMTQ0CjEwNjYsOTU2Ny4wLDQzNC43ODc3NjMzOTk0NzA3CjEwNjcsOTU2OC4wLDQ4MS42NjM0NDk2ODkxNTMzNwo=\" target=\"_blank\">Download CSV file</a>"
      ],
      "text/plain": [
       "<IPython.core.display.HTML object>"
      ]
     },
     "execution_count": 36,
     "metadata": {},
     "output_type": "execute_result"
    }
   ],
   "source": [
    "create_download_link(answer_df)"
   ]
  },
  {
   "cell_type": "code",
   "execution_count": null,
   "id": "987525f0",
   "metadata": {
    "papermill": {
     "duration": 0.058072,
     "end_time": "2022-04-13T02:27:58.890795",
     "exception": false,
     "start_time": "2022-04-13T02:27:58.832723",
     "status": "completed"
    },
    "tags": []
   },
   "outputs": [],
   "source": []
  }
 ],
 "metadata": {
  "kernelspec": {
   "display_name": "Python 3",
   "language": "python",
   "name": "python3"
  },
  "language_info": {
   "codemirror_mode": {
    "name": "ipython",
    "version": 3
   },
   "file_extension": ".py",
   "mimetype": "text/x-python",
   "name": "python",
   "nbconvert_exporter": "python",
   "pygments_lexer": "ipython3",
   "version": "3.7.12"
  },
  "papermill": {
   "default_parameters": {},
   "duration": 55.625662,
   "end_time": "2022-04-13T02:27:59.759607",
   "environment_variables": {},
   "exception": null,
   "input_path": "__notebook__.ipynb",
   "output_path": "__notebook__.ipynb",
   "parameters": {},
   "start_time": "2022-04-13T02:27:04.133945",
   "version": "2.3.3"
  }
 },
 "nbformat": 4,
 "nbformat_minor": 5
}
